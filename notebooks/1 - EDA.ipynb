{
 "cells": [
  {
   "cell_type": "markdown",
   "metadata": {},
   "source": [
    "Este notebook tem o primeiro contatocom os dados, e nele iremos fazer uma EDA e explorar os dados"
   ]
  },
  {
   "cell_type": "markdown",
   "metadata": {},
   "source": [
    "# Setting up"
   ]
  },
  {
   "cell_type": "markdown",
   "metadata": {},
   "source": [
    "## imports"
   ]
  },
  {
   "cell_type": "code",
   "execution_count": 14,
   "metadata": {},
   "outputs": [],
   "source": [
    "import pandas as pd\n",
    "import numpy as np\n",
    "import matplotlib.pyplot as plt\n",
    "import seaborn as sns\n",
    "from pyspark.sql import SparkSession\n",
    "from pyspark.sql import functions as F\n",
    "from ydata_profiling import ProfileReport\n",
    "from pathlib import Path\n",
    "\n",
    "# current repo path \n",
    "repo_path = Path().resolve().parent\n",
    "\n",
    "spark = SparkSession.builder.appName('Spark Demo').master('local[*]').getOrCreate()\n"
   ]
  },
  {
   "cell_type": "markdown",
   "metadata": {},
   "source": [
    "## carregando dados"
   ]
  },
  {
   "cell_type": "code",
   "execution_count": 19,
   "metadata": {},
   "outputs": [
    {
     "name": "stderr",
     "output_type": "stream",
     "text": [
      "                                                                                \r"
     ]
    }
   ],
   "source": [
    "offers = spark.read.json((repo_path / 'data' / 'raw' / 'offers.json').as_posix())\n",
    "transactions = spark.read.json((repo_path / 'data' / 'raw' / 'transactions.json').as_posix())\n",
    "profiles = spark.read.json((repo_path / 'data' / 'raw' / 'profile.json').as_posix())"
   ]
  },
  {
   "cell_type": "code",
   "execution_count": 20,
   "metadata": {},
   "outputs": [
    {
     "name": "stdout",
     "output_type": "stream",
     "text": [
      "+----------------------------+--------------+--------+--------------------------------+---------+-------------+\n",
      "|channels                    |discount_value|duration|id                              |min_value|offer_type   |\n",
      "+----------------------------+--------------+--------+--------------------------------+---------+-------------+\n",
      "|[email, mobile, social]     |10            |7.0     |ae264e3637204a6fb9bb56bc8210ddfd|10       |bogo         |\n",
      "|[web, email, mobile, social]|10            |5.0     |4d5c57ea9a6940dd891ad53e9dbe8da0|10       |bogo         |\n",
      "|[web, email, mobile]        |0             |4.0     |3f207df678b143eea3cee63160fa8bed|0        |informational|\n",
      "|[web, email, mobile]        |5             |7.0     |9b98b8c7a33c4b65b9aebfe6a799e6d9|5        |bogo         |\n",
      "|[web, email]                |5             |10.0    |0b1e1539f2cc45b7b9fa7c272da2e1d7|20       |discount     |\n",
      "|[web, email, mobile, social]|3             |7.0     |2298d6c36e964ae4a3e7e9706d1fb8c2|7        |discount     |\n",
      "|[web, email, mobile, social]|2             |10.0    |fafdcd668e3743c1bb461111dcafc2a4|10       |discount     |\n",
      "|[email, mobile, social]     |0             |3.0     |5a8bc65990b245e5a138643cd4eb9837|0        |informational|\n",
      "|[web, email, mobile, social]|5             |5.0     |f19421c1d4aa40978ebb69ca19b0e20d|5        |bogo         |\n",
      "|[web, email, mobile]        |2             |7.0     |2906b810c7d4411798c6938adc9daaa5|10       |discount     |\n",
      "+----------------------------+--------------+--------+--------------------------------+---------+-------------+\n",
      "\n",
      "root\n",
      " |-- channels: array (nullable = true)\n",
      " |    |-- element: string (containsNull = true)\n",
      " |-- discount_value: long (nullable = true)\n",
      " |-- duration: double (nullable = true)\n",
      " |-- id: string (nullable = true)\n",
      " |-- min_value: long (nullable = true)\n",
      " |-- offer_type: string (nullable = true)\n",
      "\n"
     ]
    }
   ],
   "source": [
    "offers.show(10,False)\n",
    "offers.printSchema()"
   ]
  },
  {
   "cell_type": "code",
   "execution_count": 21,
   "metadata": {},
   "outputs": [
    {
     "name": "stdout",
     "output_type": "stream",
     "text": [
      "+---+-----------------+------+--------------------------------+-------------+\n",
      "|age|credit_card_limit|gender|id                              |registered_on|\n",
      "+---+-----------------+------+--------------------------------+-------------+\n",
      "|118|NULL             |NULL  |68be06ca386d4c31939f3a4f0e3dd783|20170212     |\n",
      "|55 |112000.0         |F     |0610b486422d4921ae7d2bf64640c50b|20170715     |\n",
      "|118|NULL             |NULL  |38fe809add3b4fcf9315a9694bb96ff5|20180712     |\n",
      "|75 |100000.0         |F     |78afa995795e4d85b5d9ceeca43f5fef|20170509     |\n",
      "|118|NULL             |NULL  |a03223e636434f42ac4c3df47e8bac43|20170804     |\n",
      "|68 |70000.0          |M     |e2127556f4f64592b11af22de27a7932|20180426     |\n",
      "|118|NULL             |NULL  |8ec6ce2a7e7949b1bf142def7d0e0586|20170925     |\n",
      "|118|NULL             |NULL  |68617ca6246f4fbc85e91a2a49552598|20171002     |\n",
      "|65 |53000.0          |M     |389bc3fa690240e798340f5a15918d5c|20180209     |\n",
      "|118|NULL             |NULL  |8974fc5686fe429db53ddde067b88302|20161122     |\n",
      "+---+-----------------+------+--------------------------------+-------------+\n",
      "only showing top 10 rows\n",
      "\n",
      "root\n",
      " |-- age: long (nullable = true)\n",
      " |-- credit_card_limit: double (nullable = true)\n",
      " |-- gender: string (nullable = true)\n",
      " |-- id: string (nullable = true)\n",
      " |-- registered_on: string (nullable = true)\n",
      "\n"
     ]
    }
   ],
   "source": [
    "profiles.show(10,False)\n",
    "profiles.printSchema()"
   ]
  },
  {
   "cell_type": "markdown",
   "metadata": {},
   "source": [
    "Vemos que as datas estão desformatadas, irei transformar a coluna no tipo certo"
   ]
  },
  {
   "cell_type": "code",
   "execution_count": 22,
   "metadata": {},
   "outputs": [],
   "source": [
    "profiles = profiles.withColumn('registered_on', \n",
    "                               F.to_date(F.col('registered_on').cast('string'),'yyyyMMdd')\n",
    "                               )\n"
   ]
  },
  {
   "cell_type": "code",
   "execution_count": 27,
   "metadata": {},
   "outputs": [
    {
     "name": "stdout",
     "output_type": "stream",
     "text": [
      "+--------------------------------+--------------+---------------------+----------------------------------------------------+\n",
      "|account_id                      |event         |time_since_test_start|value                                               |\n",
      "+--------------------------------+--------------+---------------------+----------------------------------------------------+\n",
      "|78afa995795e4d85b5d9ceeca43f5fef|offer received|0.0                  |{NULL, 9b98b8c7a33c4b65b9aebfe6a799e6d9, NULL, NULL}|\n",
      "|a03223e636434f42ac4c3df47e8bac43|offer received|0.0                  |{NULL, 0b1e1539f2cc45b7b9fa7c272da2e1d7, NULL, NULL}|\n",
      "|e2127556f4f64592b11af22de27a7932|offer received|0.0                  |{NULL, 2906b810c7d4411798c6938adc9daaa5, NULL, NULL}|\n",
      "|8ec6ce2a7e7949b1bf142def7d0e0586|offer received|0.0                  |{NULL, fafdcd668e3743c1bb461111dcafc2a4, NULL, NULL}|\n",
      "|68617ca6246f4fbc85e91a2a49552598|offer received|0.0                  |{NULL, 4d5c57ea9a6940dd891ad53e9dbe8da0, NULL, NULL}|\n",
      "|389bc3fa690240e798340f5a15918d5c|offer received|0.0                  |{NULL, f19421c1d4aa40978ebb69ca19b0e20d, NULL, NULL}|\n",
      "|c4863c7985cf408faee930f111475da3|offer received|0.0                  |{NULL, 2298d6c36e964ae4a3e7e9706d1fb8c2, NULL, NULL}|\n",
      "|2eeac8d8feae4a8cad5a6af0499a211d|offer received|0.0                  |{NULL, 3f207df678b143eea3cee63160fa8bed, NULL, NULL}|\n",
      "|aa4862eba776480b8bb9c68455b8c2e1|offer received|0.0                  |{NULL, 0b1e1539f2cc45b7b9fa7c272da2e1d7, NULL, NULL}|\n",
      "|31dda685af34476cad5bc968bdb01c53|offer received|0.0                  |{NULL, 0b1e1539f2cc45b7b9fa7c272da2e1d7, NULL, NULL}|\n",
      "+--------------------------------+--------------+---------------------+----------------------------------------------------+\n",
      "only showing top 10 rows\n",
      "\n",
      "root\n",
      " |-- account_id: string (nullable = true)\n",
      " |-- event: string (nullable = true)\n",
      " |-- time_since_test_start: double (nullable = true)\n",
      " |-- value: struct (nullable = true)\n",
      " |    |-- amount: double (nullable = true)\n",
      " |    |-- offer id: string (nullable = true)\n",
      " |    |-- offer_id: string (nullable = true)\n",
      " |    |-- reward: double (nullable = true)\n",
      "\n"
     ]
    },
    {
     "name": "stderr",
     "output_type": "stream",
     "text": [
      "                                                                                \r"
     ]
    }
   ],
   "source": [
    "transactions.show(10,False)\n",
    "transactions.printSchema()"
   ]
  },
  {
   "cell_type": "code",
   "execution_count": 29,
   "metadata": {},
   "outputs": [
    {
     "name": "stdout",
     "output_type": "stream",
     "text": [
      "+---------------+------+\n",
      "|event          |count |\n",
      "+---------------+------+\n",
      "|transaction    |138953|\n",
      "|offer received |76277 |\n",
      "|offer viewed   |57725 |\n",
      "|offer completed|33579 |\n",
      "+---------------+------+\n",
      "\n"
     ]
    },
    {
     "name": "stderr",
     "output_type": "stream",
     "text": [
      "                                                                                \r"
     ]
    }
   ],
   "source": [
    "transactions.groupBy('event').count().orderBy('count',ascending=False).show(10,False)"
   ]
  },
  {
   "cell_type": "code",
   "execution_count": 31,
   "metadata": {},
   "outputs": [
    {
     "name": "stderr",
     "output_type": "stream",
     "text": [
      "[Stage 425:===================================================>   (13 + 1) / 14]\r"
     ]
    },
    {
     "name": "stdout",
     "output_type": "stream",
     "text": [
      "+--------------------------------+---------------+---------------------+----------------------------------------------------+\n",
      "|account_id                      |event          |time_since_test_start|value                                               |\n",
      "+--------------------------------+---------------+---------------------+----------------------------------------------------+\n",
      "|ffff82501cea40309d5fdd7edcca4a07|offer received |0.0                  |{NULL, fafdcd668e3743c1bb461111dcafc2a4, NULL, NULL}|\n",
      "|ffff82501cea40309d5fdd7edcca4a07|offer viewed   |0.25                 |{NULL, fafdcd668e3743c1bb461111dcafc2a4, NULL, NULL}|\n",
      "|ffff82501cea40309d5fdd7edcca4a07|transaction    |5.0                  |{9.12, NULL, NULL, NULL}                            |\n",
      "|ffff82501cea40309d5fdd7edcca4a07|transaction    |2.5                  |{16.06, NULL, NULL, NULL}                           |\n",
      "|ffff82501cea40309d5fdd7edcca4a07|offer completed|2.5                  |{NULL, NULL, fafdcd668e3743c1bb461111dcafc2a4, 2.0} |\n",
      "|ffff82501cea40309d5fdd7edcca4a07|transaction    |3.25                 |{7.18, NULL, NULL, NULL}                            |\n",
      "|ffff82501cea40309d5fdd7edcca4a07|offer received |7.0                  |{NULL, 0b1e1539f2cc45b7b9fa7c272da2e1d7, NULL, NULL}|\n",
      "|ffff82501cea40309d5fdd7edcca4a07|offer viewed   |7.25                 |{NULL, 0b1e1539f2cc45b7b9fa7c272da2e1d7, NULL, NULL}|\n",
      "|ffff82501cea40309d5fdd7edcca4a07|transaction    |8.25                 |{22.88, NULL, NULL, NULL}                           |\n",
      "|ffff82501cea40309d5fdd7edcca4a07|offer completed|8.25                 |{NULL, NULL, 0b1e1539f2cc45b7b9fa7c272da2e1d7, 5.0} |\n",
      "|ffff82501cea40309d5fdd7edcca4a07|transaction    |8.5                  |{15.23, NULL, NULL, NULL}                           |\n",
      "|ffff82501cea40309d5fdd7edcca4a07|transaction    |9.75                 |{18.08, NULL, NULL, NULL}                           |\n",
      "|ffff82501cea40309d5fdd7edcca4a07|transaction    |11.0                 |{23.32, NULL, NULL, NULL}                           |\n",
      "|ffff82501cea40309d5fdd7edcca4a07|transaction    |13.0                 |{16.86, NULL, NULL, NULL}                           |\n",
      "|ffff82501cea40309d5fdd7edcca4a07|offer received |14.0                 |{NULL, 2906b810c7d4411798c6938adc9daaa5, NULL, NULL}|\n",
      "|ffff82501cea40309d5fdd7edcca4a07|offer viewed   |14.75                |{NULL, 2906b810c7d4411798c6938adc9daaa5, NULL, NULL}|\n",
      "|ffff82501cea40309d5fdd7edcca4a07|transaction    |16.0                 |{15.57, NULL, NULL, NULL}                           |\n",
      "|ffff82501cea40309d5fdd7edcca4a07|offer completed|16.0                 |{NULL, NULL, 2906b810c7d4411798c6938adc9daaa5, 2.0} |\n",
      "|ffff82501cea40309d5fdd7edcca4a07|offer received |17.0                 |{NULL, 2906b810c7d4411798c6938adc9daaa5, NULL, NULL}|\n",
      "|ffff82501cea40309d5fdd7edcca4a07|offer viewed   |17.25                |{NULL, 2906b810c7d4411798c6938adc9daaa5, NULL, NULL}|\n",
      "+--------------------------------+---------------+---------------------+----------------------------------------------------+\n",
      "only showing top 20 rows\n",
      "\n"
     ]
    },
    {
     "name": "stderr",
     "output_type": "stream",
     "text": [
      "                                                                                \r"
     ]
    }
   ],
   "source": [
    "transactions.orderBy('account_id',ascending=False).show(20,False)"
   ]
  },
  {
   "cell_type": "code",
   "execution_count": 28,
   "metadata": {},
   "outputs": [
    {
     "name": "stderr",
     "output_type": "stream",
     "text": [
      "[Stage 420:>                                                        (0 + 1) / 1]\r"
     ]
    },
    {
     "name": "stdout",
     "output_type": "stream",
     "text": [
      "+--------------------------------+-----------+---------------------+-------------------------+\n",
      "|account_id                      |event      |time_since_test_start|value                    |\n",
      "+--------------------------------+-----------+---------------------+-------------------------+\n",
      "|02c083884c7d45b39cc68e1314fec56c|transaction|0.0                  |{0.83, NULL, NULL, NULL} |\n",
      "|9fa9ae8f57894cc9a3b8a9bbe0fc1b2f|transaction|0.0                  |{34.56, NULL, NULL, NULL}|\n",
      "|54890f68699049c2a04d415abc25e717|transaction|0.0                  |{13.23, NULL, NULL, NULL}|\n",
      "|b2f1cd155b864803ad8334cdf13c4bd2|transaction|0.0                  |{19.51, NULL, NULL, NULL}|\n",
      "|fe97aa22dd3e48c8b143116a8403dd52|transaction|0.0                  |{18.97, NULL, NULL, NULL}|\n",
      "|629fc02d56414d91bca360decdfa9288|transaction|0.0                  |{33.9, NULL, NULL, NULL} |\n",
      "|bbeb54e861614fc7b22a8844f72dca6c|transaction|0.0                  |{0.22, NULL, NULL, NULL} |\n",
      "|a97e6f33219c432db82acfa0d19c602d|transaction|0.0                  |{18.59, NULL, NULL, NULL}|\n",
      "|676506bad68e4161b9bbaffeb039626b|transaction|0.0                  |{18.01, NULL, NULL, NULL}|\n",
      "|8f7dd3b2afe14c078eb4f6e6fe4ba97d|transaction|0.0                  |{19.11, NULL, NULL, NULL}|\n",
      "+--------------------------------+-----------+---------------------+-------------------------+\n",
      "only showing top 10 rows\n",
      "\n"
     ]
    },
    {
     "name": "stderr",
     "output_type": "stream",
     "text": [
      "                                                                                \r"
     ]
    }
   ],
   "source": [
    "transactions.filter('value.amount is not null').show(10,False)"
   ]
  },
  {
   "cell_type": "code",
   "execution_count": 26,
   "metadata": {},
   "outputs": [
    {
     "name": "stdout",
     "output_type": "stream",
     "text": [
      "+----------------------------+--------------+--------+--------------------------------+---------+-------------+\n",
      "|channels                    |discount_value|duration|id                              |min_value|offer_type   |\n",
      "+----------------------------+--------------+--------+--------------------------------+---------+-------------+\n",
      "|[email, mobile, social]     |10            |7.0     |ae264e3637204a6fb9bb56bc8210ddfd|10       |bogo         |\n",
      "|[web, email, mobile, social]|10            |5.0     |4d5c57ea9a6940dd891ad53e9dbe8da0|10       |bogo         |\n",
      "|[web, email, mobile]        |0             |4.0     |3f207df678b143eea3cee63160fa8bed|0        |informational|\n",
      "|[web, email, mobile]        |5             |7.0     |9b98b8c7a33c4b65b9aebfe6a799e6d9|5        |bogo         |\n",
      "|[web, email]                |5             |10.0    |0b1e1539f2cc45b7b9fa7c272da2e1d7|20       |discount     |\n",
      "|[web, email, mobile, social]|3             |7.0     |2298d6c36e964ae4a3e7e9706d1fb8c2|7        |discount     |\n",
      "|[web, email, mobile, social]|2             |10.0    |fafdcd668e3743c1bb461111dcafc2a4|10       |discount     |\n",
      "|[email, mobile, social]     |0             |3.0     |5a8bc65990b245e5a138643cd4eb9837|0        |informational|\n",
      "|[web, email, mobile, social]|5             |5.0     |f19421c1d4aa40978ebb69ca19b0e20d|5        |bogo         |\n",
      "|[web, email, mobile]        |2             |7.0     |2906b810c7d4411798c6938adc9daaa5|10       |discount     |\n",
      "+----------------------------+--------------+--------+--------------------------------+---------+-------------+\n",
      "\n"
     ]
    }
   ],
   "source": [
    "offers.show(10,False)\n",
    "\n",
    "\n"
   ]
  },
  {
   "cell_type": "code",
   "execution_count": null,
   "metadata": {},
   "outputs": [],
   "source": []
  },
  {
   "cell_type": "code",
   "execution_count": 3,
   "metadata": {},
   "outputs": [
    {
     "name": "stderr",
     "output_type": "stream",
     "text": [
      "                                                                                \r"
     ]
    }
   ],
   "source": [
    "profile = ProfileReport(offers, title=\"Offers Report\")"
   ]
  },
  {
   "cell_type": "code",
   "execution_count": 5,
   "metadata": {},
   "outputs": [
    {
     "name": "stderr",
     "output_type": "stream",
     "text": [
      "Summarize dataset:   0%|          | 0/5 [00:00<?, ?it/s]25/05/11 16:15:10 WARN CacheManager: Asked to cache already cached data.\n",
      "Summarize dataset:   9%|▉         | 1/11 [00:02<00:22,  2.24s/it, Describe variable: channels]25/05/11 16:15:12 WARN CacheManager: Asked to cache already cached data.\n",
      "Summarize dataset:  18%|█▊        | 2/11 [00:04<00:18,  2.03s/it, Describe variable: discount_value]25/05/11 16:15:13 WARN CacheManager: Asked to cache already cached data.\n",
      "Summarize dataset:  27%|██▋       | 3/11 [00:05<00:14,  1.76s/it, Describe variable: duration]      25/05/11 16:15:15 WARN CacheManager: Asked to cache already cached data.\n",
      "Summarize dataset:  36%|███▋      | 4/11 [00:06<00:09,  1.33s/it, Describe variable: id]      25/05/11 16:15:15 WARN CacheManager: Asked to cache already cached data.\n",
      "Summarize dataset:  45%|████▌     | 5/11 [00:07<00:07,  1.30s/it, Describe variable: min_value]25/05/11 16:15:17 WARN CacheManager: Asked to cache already cached data.\n",
      "Summarize dataset: 100%|██████████| 14/14 [00:10<00:00,  1.28it/s, Completed]                    \n",
      "Generate report structure:   0%|          | 0/1 [00:00<?, ?it/s]\n"
     ]
    },
    {
     "ename": "ValueError",
     "evalue": "setting an array element with a sequence",
     "output_type": "error",
     "traceback": [
      "\u001b[0;31m---------------------------------------------------------------------------\u001b[0m",
      "\u001b[0;31mValueError\u001b[0m                                Traceback (most recent call last)",
      "Cell \u001b[0;32mIn[5], line 1\u001b[0m\n\u001b[0;32m----> 1\u001b[0m \u001b[43mprofile\u001b[49m\u001b[38;5;241;43m.\u001b[39;49m\u001b[43mto_html\u001b[49m\u001b[43m(\u001b[49m\u001b[43m)\u001b[49m\n",
      "File \u001b[0;32m~/miniconda3/envs/ifood-env/lib/python3.12/site-packages/ydata_profiling/profile_report.py:498\u001b[0m, in \u001b[0;36mProfileReport.to_html\u001b[0;34m(self)\u001b[0m\n\u001b[1;32m    490\u001b[0m \u001b[38;5;28;01mdef\u001b[39;00m\u001b[38;5;250m \u001b[39m\u001b[38;5;21mto_html\u001b[39m(\u001b[38;5;28mself\u001b[39m) \u001b[38;5;241m-\u001b[39m\u001b[38;5;241m>\u001b[39m \u001b[38;5;28mstr\u001b[39m:\n\u001b[1;32m    491\u001b[0m \u001b[38;5;250m    \u001b[39m\u001b[38;5;124;03m\"\"\"Generate and return complete template as lengthy string\u001b[39;00m\n\u001b[1;32m    492\u001b[0m \u001b[38;5;124;03m        for using with frameworks.\u001b[39;00m\n\u001b[1;32m    493\u001b[0m \n\u001b[0;32m   (...)\u001b[0m\n\u001b[1;32m    496\u001b[0m \n\u001b[1;32m    497\u001b[0m \u001b[38;5;124;03m    \"\"\"\u001b[39;00m\n\u001b[0;32m--> 498\u001b[0m     \u001b[38;5;28;01mreturn\u001b[39;00m \u001b[38;5;28;43mself\u001b[39;49m\u001b[38;5;241;43m.\u001b[39;49m\u001b[43mhtml\u001b[49m\n",
      "File \u001b[0;32m~/miniconda3/envs/ifood-env/lib/python3.12/site-packages/ydata_profiling/profile_report.py:294\u001b[0m, in \u001b[0;36mProfileReport.html\u001b[0;34m(self)\u001b[0m\n\u001b[1;32m    291\u001b[0m \u001b[38;5;129m@property\u001b[39m\n\u001b[1;32m    292\u001b[0m \u001b[38;5;28;01mdef\u001b[39;00m\u001b[38;5;250m \u001b[39m\u001b[38;5;21mhtml\u001b[39m(\u001b[38;5;28mself\u001b[39m) \u001b[38;5;241m-\u001b[39m\u001b[38;5;241m>\u001b[39m \u001b[38;5;28mstr\u001b[39m:\n\u001b[1;32m    293\u001b[0m     \u001b[38;5;28;01mif\u001b[39;00m \u001b[38;5;28mself\u001b[39m\u001b[38;5;241m.\u001b[39m_html \u001b[38;5;129;01mis\u001b[39;00m \u001b[38;5;28;01mNone\u001b[39;00m:\n\u001b[0;32m--> 294\u001b[0m         \u001b[38;5;28mself\u001b[39m\u001b[38;5;241m.\u001b[39m_html \u001b[38;5;241m=\u001b[39m \u001b[38;5;28;43mself\u001b[39;49m\u001b[38;5;241;43m.\u001b[39;49m\u001b[43m_render_html\u001b[49m\u001b[43m(\u001b[49m\u001b[43m)\u001b[49m\n\u001b[1;32m    295\u001b[0m     \u001b[38;5;28;01mreturn\u001b[39;00m \u001b[38;5;28mself\u001b[39m\u001b[38;5;241m.\u001b[39m_html\n",
      "File \u001b[0;32m~/miniconda3/envs/ifood-env/lib/python3.12/site-packages/ydata_profiling/profile_report.py:411\u001b[0m, in \u001b[0;36mProfileReport._render_html\u001b[0;34m(self)\u001b[0m\n\u001b[1;32m    408\u001b[0m \u001b[38;5;28;01mdef\u001b[39;00m\u001b[38;5;250m \u001b[39m\u001b[38;5;21m_render_html\u001b[39m(\u001b[38;5;28mself\u001b[39m) \u001b[38;5;241m-\u001b[39m\u001b[38;5;241m>\u001b[39m \u001b[38;5;28mstr\u001b[39m:\n\u001b[1;32m    409\u001b[0m     \u001b[38;5;28;01mfrom\u001b[39;00m\u001b[38;5;250m \u001b[39m\u001b[38;5;21;01mydata_profiling\u001b[39;00m\u001b[38;5;21;01m.\u001b[39;00m\u001b[38;5;21;01mreport\u001b[39;00m\u001b[38;5;21;01m.\u001b[39;00m\u001b[38;5;21;01mpresentation\u001b[39;00m\u001b[38;5;21;01m.\u001b[39;00m\u001b[38;5;21;01mflavours\u001b[39;00m\u001b[38;5;250m \u001b[39m\u001b[38;5;28;01mimport\u001b[39;00m HTMLReport\n\u001b[0;32m--> 411\u001b[0m     report \u001b[38;5;241m=\u001b[39m \u001b[38;5;28;43mself\u001b[39;49m\u001b[38;5;241;43m.\u001b[39;49m\u001b[43mreport\u001b[49m\n\u001b[1;32m    413\u001b[0m     \u001b[38;5;28;01mwith\u001b[39;00m tqdm(\n\u001b[1;32m    414\u001b[0m         total\u001b[38;5;241m=\u001b[39m\u001b[38;5;241m1\u001b[39m, desc\u001b[38;5;241m=\u001b[39m\u001b[38;5;124m\"\u001b[39m\u001b[38;5;124mRender HTML\u001b[39m\u001b[38;5;124m\"\u001b[39m, disable\u001b[38;5;241m=\u001b[39m\u001b[38;5;129;01mnot\u001b[39;00m \u001b[38;5;28mself\u001b[39m\u001b[38;5;241m.\u001b[39mconfig\u001b[38;5;241m.\u001b[39mprogress_bar\n\u001b[1;32m    415\u001b[0m     ) \u001b[38;5;28;01mas\u001b[39;00m pbar:\n\u001b[1;32m    416\u001b[0m         html \u001b[38;5;241m=\u001b[39m HTMLReport(copy\u001b[38;5;241m.\u001b[39mdeepcopy(report))\u001b[38;5;241m.\u001b[39mrender(\n\u001b[1;32m    417\u001b[0m             nav\u001b[38;5;241m=\u001b[39m\u001b[38;5;28mself\u001b[39m\u001b[38;5;241m.\u001b[39mconfig\u001b[38;5;241m.\u001b[39mhtml\u001b[38;5;241m.\u001b[39mnavbar_show,\n\u001b[1;32m    418\u001b[0m             offline\u001b[38;5;241m=\u001b[39m\u001b[38;5;28mself\u001b[39m\u001b[38;5;241m.\u001b[39mconfig\u001b[38;5;241m.\u001b[39mhtml\u001b[38;5;241m.\u001b[39muse_local_assets,\n\u001b[0;32m   (...)\u001b[0m\n\u001b[1;32m    426\u001b[0m             version\u001b[38;5;241m=\u001b[39m\u001b[38;5;28mself\u001b[39m\u001b[38;5;241m.\u001b[39mdescription_set\u001b[38;5;241m.\u001b[39mpackage[\u001b[38;5;124m\"\u001b[39m\u001b[38;5;124mydata_profiling_version\u001b[39m\u001b[38;5;124m\"\u001b[39m],\n\u001b[1;32m    427\u001b[0m         )\n",
      "File \u001b[0;32m~/miniconda3/envs/ifood-env/lib/python3.12/site-packages/ydata_profiling/profile_report.py:288\u001b[0m, in \u001b[0;36mProfileReport.report\u001b[0;34m(self)\u001b[0m\n\u001b[1;32m    285\u001b[0m \u001b[38;5;129m@property\u001b[39m\n\u001b[1;32m    286\u001b[0m \u001b[38;5;28;01mdef\u001b[39;00m\u001b[38;5;250m \u001b[39m\u001b[38;5;21mreport\u001b[39m(\u001b[38;5;28mself\u001b[39m) \u001b[38;5;241m-\u001b[39m\u001b[38;5;241m>\u001b[39m Root:\n\u001b[1;32m    287\u001b[0m     \u001b[38;5;28;01mif\u001b[39;00m \u001b[38;5;28mself\u001b[39m\u001b[38;5;241m.\u001b[39m_report \u001b[38;5;129;01mis\u001b[39;00m \u001b[38;5;28;01mNone\u001b[39;00m:\n\u001b[0;32m--> 288\u001b[0m         \u001b[38;5;28mself\u001b[39m\u001b[38;5;241m.\u001b[39m_report \u001b[38;5;241m=\u001b[39m \u001b[43mget_report_structure\u001b[49m\u001b[43m(\u001b[49m\u001b[38;5;28;43mself\u001b[39;49m\u001b[38;5;241;43m.\u001b[39;49m\u001b[43mconfig\u001b[49m\u001b[43m,\u001b[49m\u001b[43m \u001b[49m\u001b[38;5;28;43mself\u001b[39;49m\u001b[38;5;241;43m.\u001b[39;49m\u001b[43mdescription_set\u001b[49m\u001b[43m)\u001b[49m\n\u001b[1;32m    289\u001b[0m     \u001b[38;5;28;01mreturn\u001b[39;00m \u001b[38;5;28mself\u001b[39m\u001b[38;5;241m.\u001b[39m_report\n",
      "File \u001b[0;32m~/miniconda3/envs/ifood-env/lib/python3.12/site-packages/ydata_profiling/report/structure/report.py:388\u001b[0m, in \u001b[0;36mget_report_structure\u001b[0;34m(config, summary)\u001b[0m\n\u001b[1;32m    368\u001b[0m section_items: List[Renderable] \u001b[38;5;241m=\u001b[39m [\n\u001b[1;32m    369\u001b[0m     Container(\n\u001b[1;32m    370\u001b[0m         get_dataset_items(config, summary, alerts),\n\u001b[0;32m   (...)\u001b[0m\n\u001b[1;32m    375\u001b[0m     ),\n\u001b[1;32m    376\u001b[0m ]\n\u001b[1;32m    378\u001b[0m \u001b[38;5;28;01mif\u001b[39;00m \u001b[38;5;28mlen\u001b[39m(summary\u001b[38;5;241m.\u001b[39mvariables) \u001b[38;5;241m>\u001b[39m \u001b[38;5;241m0\u001b[39m:\n\u001b[1;32m    379\u001b[0m     section_items\u001b[38;5;241m.\u001b[39mappend(\n\u001b[1;32m    380\u001b[0m         Dropdown(\n\u001b[1;32m    381\u001b[0m             name\u001b[38;5;241m=\u001b[39m\u001b[38;5;124m\"\u001b[39m\u001b[38;5;124mVariables\u001b[39m\u001b[38;5;124m\"\u001b[39m,\n\u001b[1;32m    382\u001b[0m             anchor_id\u001b[38;5;241m=\u001b[39m\u001b[38;5;124m\"\u001b[39m\u001b[38;5;124mvariables-dropdown\u001b[39m\u001b[38;5;124m\"\u001b[39m,\n\u001b[1;32m    383\u001b[0m             \u001b[38;5;28mid\u001b[39m\u001b[38;5;241m=\u001b[39m\u001b[38;5;124m\"\u001b[39m\u001b[38;5;124mvariables-dropdown\u001b[39m\u001b[38;5;124m\"\u001b[39m,\n\u001b[1;32m    384\u001b[0m             is_row\u001b[38;5;241m=\u001b[39m\u001b[38;5;28;01mFalse\u001b[39;00m,\n\u001b[1;32m    385\u001b[0m             classes\u001b[38;5;241m=\u001b[39m[\u001b[38;5;124m\"\u001b[39m\u001b[38;5;124mform-select\u001b[39m\u001b[38;5;124m\"\u001b[39m],\n\u001b[1;32m    386\u001b[0m             items\u001b[38;5;241m=\u001b[39m\u001b[38;5;28mlist\u001b[39m(summary\u001b[38;5;241m.\u001b[39mvariables),\n\u001b[1;32m    387\u001b[0m             item\u001b[38;5;241m=\u001b[39mContainer(\n\u001b[0;32m--> 388\u001b[0m                 \u001b[43mrender_variables_section\u001b[49m\u001b[43m(\u001b[49m\u001b[43mconfig\u001b[49m\u001b[43m,\u001b[49m\u001b[43m \u001b[49m\u001b[43msummary\u001b[49m\u001b[43m)\u001b[49m,\n\u001b[1;32m    389\u001b[0m                 sequence_type\u001b[38;5;241m=\u001b[39m\u001b[38;5;124m\"\u001b[39m\u001b[38;5;124maccordion\u001b[39m\u001b[38;5;124m\"\u001b[39m,\n\u001b[1;32m    390\u001b[0m                 name\u001b[38;5;241m=\u001b[39m\u001b[38;5;124m\"\u001b[39m\u001b[38;5;124mVariables\u001b[39m\u001b[38;5;124m\"\u001b[39m,\n\u001b[1;32m    391\u001b[0m                 anchor_id\u001b[38;5;241m=\u001b[39m\u001b[38;5;124m\"\u001b[39m\u001b[38;5;124mvariables\u001b[39m\u001b[38;5;124m\"\u001b[39m,\n\u001b[1;32m    392\u001b[0m             ),\n\u001b[1;32m    393\u001b[0m         )\n\u001b[1;32m    394\u001b[0m     )\n\u001b[1;32m    396\u001b[0m scatter_items \u001b[38;5;241m=\u001b[39m get_interactions(config, summary\u001b[38;5;241m.\u001b[39mscatter)\n\u001b[1;32m    397\u001b[0m \u001b[38;5;28;01mif\u001b[39;00m \u001b[38;5;28mlen\u001b[39m(scatter_items) \u001b[38;5;241m>\u001b[39m \u001b[38;5;241m0\u001b[39m:\n",
      "File \u001b[0;32m~/miniconda3/envs/ifood-env/lib/python3.12/site-packages/ydata_profiling/report/structure/report.py:162\u001b[0m, in \u001b[0;36mrender_variables_section\u001b[0;34m(config, dataframe_summary)\u001b[0m\n\u001b[1;32m    160\u001b[0m     variable_type \u001b[38;5;241m=\u001b[39m summary[\u001b[38;5;124m\"\u001b[39m\u001b[38;5;124mtype\u001b[39m\u001b[38;5;124m\"\u001b[39m]\n\u001b[1;32m    161\u001b[0m render_map_type \u001b[38;5;241m=\u001b[39m render_map\u001b[38;5;241m.\u001b[39mget(variable_type, render_map[\u001b[38;5;124m\"\u001b[39m\u001b[38;5;124mUnsupported\u001b[39m\u001b[38;5;124m\"\u001b[39m])\n\u001b[0;32m--> 162\u001b[0m template_variables\u001b[38;5;241m.\u001b[39mupdate(\u001b[43mrender_map_type\u001b[49m\u001b[43m(\u001b[49m\u001b[43mconfig\u001b[49m\u001b[43m,\u001b[49m\u001b[43m \u001b[49m\u001b[43mtemplate_variables\u001b[49m\u001b[43m)\u001b[49m)\n\u001b[1;32m    164\u001b[0m \u001b[38;5;66;03m# Ignore these\u001b[39;00m\n\u001b[1;32m    165\u001b[0m \u001b[38;5;28;01mif\u001b[39;00m reject_variables:\n",
      "File \u001b[0;32m~/miniconda3/envs/ifood-env/lib/python3.12/site-packages/ydata_profiling/report/structure/variables/render_categorical.py:494\u001b[0m, in \u001b[0;36mrender_categorical\u001b[0;34m(config, summary)\u001b[0m\n\u001b[1;32m    463\u001b[0m         string_items\u001b[38;5;241m.\u001b[39mappend(\n\u001b[1;32m    464\u001b[0m             Container(\n\u001b[1;32m    465\u001b[0m                 [\n\u001b[0;32m   (...)\u001b[0m\n\u001b[1;32m    487\u001b[0m             )\n\u001b[1;32m    488\u001b[0m         )\n\u001b[1;32m    489\u001b[0m     \u001b[38;5;28;01melif\u001b[39;00m (\n\u001b[1;32m    490\u001b[0m         \u001b[38;5;28mlen\u001b[39m(config\u001b[38;5;241m.\u001b[39mhtml\u001b[38;5;241m.\u001b[39mstyle\u001b[38;5;241m.\u001b[39m_labels) \u001b[38;5;241m==\u001b[39m \u001b[38;5;241m1\u001b[39m \u001b[38;5;129;01mand\u001b[39;00m summary[\u001b[38;5;124m\"\u001b[39m\u001b[38;5;124mn_distinct\u001b[39m\u001b[38;5;124m\"\u001b[39m] \u001b[38;5;241m<\u001b[39m\u001b[38;5;241m=\u001b[39m max_unique\n\u001b[1;32m    491\u001b[0m     ):\n\u001b[1;32m    492\u001b[0m         string_items\u001b[38;5;241m.\u001b[39mappend(\n\u001b[1;32m    493\u001b[0m             Image(\n\u001b[0;32m--> 494\u001b[0m                 \u001b[43mcat_frequency_plot\u001b[49m\u001b[43m(\u001b[49m\n\u001b[1;32m    495\u001b[0m \u001b[43m                    \u001b[49m\u001b[43mconfig\u001b[49m\u001b[43m,\u001b[49m\n\u001b[1;32m    496\u001b[0m \u001b[43m                    \u001b[49m\u001b[43msummary\u001b[49m\u001b[43m[\u001b[49m\u001b[38;5;124;43m\"\u001b[39;49m\u001b[38;5;124;43mvalue_counts_without_nan\u001b[39;49m\u001b[38;5;124;43m\"\u001b[39;49m\u001b[43m]\u001b[49m\u001b[43m,\u001b[49m\n\u001b[1;32m    497\u001b[0m \u001b[43m                \u001b[49m\u001b[43m)\u001b[49m,\n\u001b[1;32m    498\u001b[0m                 image_format\u001b[38;5;241m=\u001b[39mimage_format,\n\u001b[1;32m    499\u001b[0m                 alt\u001b[38;5;241m=\u001b[39m\u001b[38;5;124m\"\u001b[39m\u001b[38;5;124mCommon Values (Plot)\u001b[39m\u001b[38;5;124m\"\u001b[39m,\n\u001b[1;32m    500\u001b[0m                 name\u001b[38;5;241m=\u001b[39m\u001b[38;5;124m\"\u001b[39m\u001b[38;5;124mCommon Values (Plot)\u001b[39m\u001b[38;5;124m\"\u001b[39m,\n\u001b[1;32m    501\u001b[0m                 anchor_id\u001b[38;5;241m=\u001b[39m\u001b[38;5;124mf\u001b[39m\u001b[38;5;124m\"\u001b[39m\u001b[38;5;132;01m{\u001b[39;00mvarid\u001b[38;5;132;01m}\u001b[39;00m\u001b[38;5;124mcat_frequency_plot\u001b[39m\u001b[38;5;124m\"\u001b[39m,\n\u001b[1;32m    502\u001b[0m             )\n\u001b[1;32m    503\u001b[0m         )\n\u001b[1;32m    505\u001b[0m bottom_items \u001b[38;5;241m=\u001b[39m [\n\u001b[1;32m    506\u001b[0m     Container(\n\u001b[1;32m    507\u001b[0m         overview_items,\n\u001b[0;32m   (...)\u001b[0m\n\u001b[1;32m    522\u001b[0m     ),\n\u001b[1;32m    523\u001b[0m ]\n\u001b[1;32m    525\u001b[0m \u001b[38;5;66;03m# words aren't being computed for categorical in spark\u001b[39;00m\n",
      "File \u001b[0;32m~/miniconda3/envs/ifood-env/lib/python3.12/contextlib.py:81\u001b[0m, in \u001b[0;36mContextDecorator.__call__.<locals>.inner\u001b[0;34m(*args, **kwds)\u001b[0m\n\u001b[1;32m     78\u001b[0m \u001b[38;5;129m@wraps\u001b[39m(func)\n\u001b[1;32m     79\u001b[0m \u001b[38;5;28;01mdef\u001b[39;00m\u001b[38;5;250m \u001b[39m\u001b[38;5;21minner\u001b[39m(\u001b[38;5;241m*\u001b[39margs, \u001b[38;5;241m*\u001b[39m\u001b[38;5;241m*\u001b[39mkwds):\n\u001b[1;32m     80\u001b[0m     \u001b[38;5;28;01mwith\u001b[39;00m \u001b[38;5;28mself\u001b[39m\u001b[38;5;241m.\u001b[39m_recreate_cm():\n\u001b[0;32m---> 81\u001b[0m         \u001b[38;5;28;01mreturn\u001b[39;00m \u001b[43mfunc\u001b[49m\u001b[43m(\u001b[49m\u001b[38;5;241;43m*\u001b[39;49m\u001b[43margs\u001b[49m\u001b[43m,\u001b[49m\u001b[43m \u001b[49m\u001b[38;5;241;43m*\u001b[39;49m\u001b[38;5;241;43m*\u001b[39;49m\u001b[43mkwds\u001b[49m\u001b[43m)\u001b[49m\n",
      "File \u001b[0;32m~/miniconda3/envs/ifood-env/lib/python3.12/site-packages/ydata_profiling/visualisation/plot.py:521\u001b[0m, in \u001b[0;36mcat_frequency_plot\u001b[0;34m(config, data)\u001b[0m\n\u001b[1;32m    517\u001b[0m             plot, legend \u001b[38;5;241m=\u001b[39m _plot_stacked_barh(\n\u001b[1;32m    518\u001b[0m                 v, colors, hide_legend\u001b[38;5;241m=\u001b[39mconfig\u001b[38;5;241m.\u001b[39mvars\u001b[38;5;241m.\u001b[39mcat\u001b[38;5;241m.\u001b[39mredact\n\u001b[1;32m    519\u001b[0m             )\n\u001b[1;32m    520\u001b[0m     \u001b[38;5;28;01melse\u001b[39;00m:\n\u001b[0;32m--> 521\u001b[0m         plot, legend \u001b[38;5;241m=\u001b[39m \u001b[43m_plot_stacked_barh\u001b[49m\u001b[43m(\u001b[49m\n\u001b[1;32m    522\u001b[0m \u001b[43m            \u001b[49m\u001b[43mdata\u001b[49m\u001b[43m,\u001b[49m\u001b[43m \u001b[49m\u001b[43mcolors\u001b[49m\u001b[43m,\u001b[49m\u001b[43m \u001b[49m\u001b[43mhide_legend\u001b[49m\u001b[38;5;241;43m=\u001b[39;49m\u001b[43mconfig\u001b[49m\u001b[38;5;241;43m.\u001b[39;49m\u001b[43mvars\u001b[49m\u001b[38;5;241;43m.\u001b[39;49m\u001b[43mcat\u001b[49m\u001b[38;5;241;43m.\u001b[39;49m\u001b[43mredact\u001b[49m\n\u001b[1;32m    523\u001b[0m \u001b[43m        \u001b[49m\u001b[43m)\u001b[49m\n\u001b[1;32m    525\u001b[0m \u001b[38;5;28;01melif\u001b[39;00m plot_type \u001b[38;5;241m==\u001b[39m \u001b[38;5;124m\"\u001b[39m\u001b[38;5;124mpie\u001b[39m\u001b[38;5;124m\"\u001b[39m:\n\u001b[1;32m    526\u001b[0m     plot, legend \u001b[38;5;241m=\u001b[39m _plot_pie_chart(data, colors, hide_legend\u001b[38;5;241m=\u001b[39mconfig\u001b[38;5;241m.\u001b[39mvars\u001b[38;5;241m.\u001b[39mcat\u001b[38;5;241m.\u001b[39mredact)\n",
      "File \u001b[0;32m~/miniconda3/envs/ifood-env/lib/python3.12/site-packages/ydata_profiling/visualisation/plot.py:393\u001b[0m, in \u001b[0;36m_plot_stacked_barh\u001b[0;34m(data, colors, hide_legend)\u001b[0m\n\u001b[1;32m    380\u001b[0m \u001b[38;5;250m\u001b[39m\u001b[38;5;124;03m\"\"\"Plot a stacked horizontal bar chart to show category frequency.\u001b[39;00m\n\u001b[1;32m    381\u001b[0m \u001b[38;5;124;03mWorks for boolean and categorical features.\u001b[39;00m\n\u001b[1;32m    382\u001b[0m \n\u001b[0;32m   (...)\u001b[0m\n\u001b[1;32m    390\u001b[0m \u001b[38;5;124;03m    legend: Legend handler (matplotlib)\u001b[39;00m\n\u001b[1;32m    391\u001b[0m \u001b[38;5;124;03m\"\"\"\u001b[39;00m\n\u001b[1;32m    392\u001b[0m \u001b[38;5;66;03m# Use the pd.Series indices as category names\u001b[39;00m\n\u001b[0;32m--> 393\u001b[0m labels \u001b[38;5;241m=\u001b[39m \u001b[43mdata\u001b[49m\u001b[38;5;241;43m.\u001b[39;49m\u001b[43mindex\u001b[49m\u001b[38;5;241;43m.\u001b[39;49m\u001b[43mvalues\u001b[49m\u001b[38;5;241;43m.\u001b[39;49m\u001b[43mastype\u001b[49m\u001b[43m(\u001b[49m\u001b[38;5;28;43mstr\u001b[39;49m\u001b[43m)\u001b[49m\n\u001b[1;32m    395\u001b[0m \u001b[38;5;66;03m# Plot\u001b[39;00m\n\u001b[1;32m    396\u001b[0m _, ax \u001b[38;5;241m=\u001b[39m plt\u001b[38;5;241m.\u001b[39msubplots(figsize\u001b[38;5;241m=\u001b[39m(\u001b[38;5;241m7\u001b[39m, \u001b[38;5;241m2\u001b[39m))\n",
      "\u001b[0;31mValueError\u001b[0m: setting an array element with a sequence"
     ]
    }
   ],
   "source": [
    "profile.to_html()\n"
   ]
  },
  {
   "cell_type": "code",
   "execution_count": 27,
   "metadata": {},
   "outputs": [
    {
     "name": "stdout",
     "output_type": "stream",
     "text": [
      "+----------------------------+--------------+--------+--------------------------------+---------+-------------+\n",
      "|channels                    |discount_value|duration|id                              |min_value|offer_type   |\n",
      "+----------------------------+--------------+--------+--------------------------------+---------+-------------+\n",
      "|[email, mobile, social]     |10            |7.0     |ae264e3637204a6fb9bb56bc8210ddfd|10       |bogo         |\n",
      "|[web, email, mobile, social]|10            |5.0     |4d5c57ea9a6940dd891ad53e9dbe8da0|10       |bogo         |\n",
      "|[web, email, mobile]        |0             |4.0     |3f207df678b143eea3cee63160fa8bed|0        |informational|\n",
      "|[web, email, mobile]        |5             |7.0     |9b98b8c7a33c4b65b9aebfe6a799e6d9|5        |bogo         |\n",
      "|[web, email]                |5             |10.0    |0b1e1539f2cc45b7b9fa7c272da2e1d7|20       |discount     |\n",
      "|[web, email, mobile, social]|3             |7.0     |2298d6c36e964ae4a3e7e9706d1fb8c2|7        |discount     |\n",
      "|[web, email, mobile, social]|2             |10.0    |fafdcd668e3743c1bb461111dcafc2a4|10       |discount     |\n",
      "|[email, mobile, social]     |0             |3.0     |5a8bc65990b245e5a138643cd4eb9837|0        |informational|\n",
      "|[web, email, mobile, social]|5             |5.0     |f19421c1d4aa40978ebb69ca19b0e20d|5        |bogo         |\n",
      "|[web, email, mobile]        |2             |7.0     |2906b810c7d4411798c6938adc9daaa5|10       |discount     |\n",
      "+----------------------------+--------------+--------+--------------------------------+---------+-------------+\n",
      "\n"
     ]
    }
   ],
   "source": [
    "offers.show(20,False)"
   ]
  },
  {
   "cell_type": "code",
   "execution_count": 32,
   "metadata": {},
   "outputs": [
    {
     "name": "stdout",
     "output_type": "stream",
     "text": [
      "+---+-----------------+------+--------------------------------+-------------+\n",
      "|age|credit_card_limit|gender|id                              |registered_on|\n",
      "+---+-----------------+------+--------------------------------+-------------+\n",
      "|118|NULL             |NULL  |68be06ca386d4c31939f3a4f0e3dd783|20170212     |\n",
      "|55 |112000.0         |F     |0610b486422d4921ae7d2bf64640c50b|20170715     |\n",
      "|118|NULL             |NULL  |38fe809add3b4fcf9315a9694bb96ff5|20180712     |\n",
      "|75 |100000.0         |F     |78afa995795e4d85b5d9ceeca43f5fef|20170509     |\n",
      "|118|NULL             |NULL  |a03223e636434f42ac4c3df47e8bac43|20170804     |\n",
      "|68 |70000.0          |M     |e2127556f4f64592b11af22de27a7932|20180426     |\n",
      "|118|NULL             |NULL  |8ec6ce2a7e7949b1bf142def7d0e0586|20170925     |\n",
      "|118|NULL             |NULL  |68617ca6246f4fbc85e91a2a49552598|20171002     |\n",
      "|65 |53000.0          |M     |389bc3fa690240e798340f5a15918d5c|20180209     |\n",
      "|118|NULL             |NULL  |8974fc5686fe429db53ddde067b88302|20161122     |\n",
      "+---+-----------------+------+--------------------------------+-------------+\n",
      "only showing top 10 rows\n",
      "\n"
     ]
    }
   ],
   "source": [
    "profiles.show(10,False)"
   ]
  },
  {
   "cell_type": "code",
   "execution_count": 33,
   "metadata": {},
   "outputs": [],
   "source": [
    "profilespd = profiles.toPandas()"
   ]
  },
  {
   "cell_type": "code",
   "execution_count": null,
   "metadata": {},
   "outputs": [],
   "source": []
  },
  {
   "cell_type": "code",
   "execution_count": null,
   "metadata": {},
   "outputs": [],
   "source": []
  }
 ],
 "metadata": {
  "kernelspec": {
   "display_name": "ifood-env",
   "language": "python",
   "name": "python3"
  },
  "language_info": {
   "codemirror_mode": {
    "name": "ipython",
    "version": 3
   },
   "file_extension": ".py",
   "mimetype": "text/x-python",
   "name": "python",
   "nbconvert_exporter": "python",
   "pygments_lexer": "ipython3",
   "version": "3.12.10"
  }
 },
 "nbformat": 4,
 "nbformat_minor": 2
}
