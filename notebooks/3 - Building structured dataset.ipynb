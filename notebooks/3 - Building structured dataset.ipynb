{
 "cells": [
  {
   "cell_type": "markdown",
   "metadata": {},
   "source": []
  },
  {
   "cell_type": "markdown",
   "metadata": {},
   "source": [
    "Este notebook tem o intuito de construir um dataset estruturado para a modelagem"
   ]
  },
  {
   "cell_type": "markdown",
   "metadata": {},
   "source": [
    "# Setting up"
   ]
  },
  {
   "cell_type": "code",
   "execution_count": null,
   "metadata": {},
   "outputs": [
    {
     "name": "stderr",
     "output_type": "stream",
     "text": [
      "your 131072x1 screen size is bogus. expect trouble\n",
      "25/05/15 11:20:07 WARN Utils: Your hostname, George-Book3 resolves to a loopback address: 127.0.1.1; using 172.23.250.106 instead (on interface eth0)\n",
      "25/05/15 11:20:07 WARN Utils: Set SPARK_LOCAL_IP if you need to bind to another address\n",
      "Setting default log level to \"WARN\".\n",
      "To adjust logging level use sc.setLogLevel(newLevel). For SparkR, use setLogLevel(newLevel).\n",
      "25/05/15 11:20:09 WARN NativeCodeLoader: Unable to load native-hadoop library for your platform... using builtin-java classes where applicable\n"
     ]
    }
   ],
   "source": [
    "import pandas as pd\n",
    "import numpy as np\n",
    "import matplotlib.pyplot as plt\n",
    "import seaborn as sns\n",
    "from pyspark.sql import SparkSession\n",
    "from pyspark.sql import functions as F\n",
    "from pyspark.pandas import merge_asof\n",
    "from pyspark.pandas import DataFrame as ps\n",
    "from pyspark.sql import Window\n",
    "\n",
    "from pathlib import Path\n",
    "\n",
    "# current repo path \n",
    "repo_path = Path().resolve().parent\n",
    "\n",
    "spark = SparkSession.builder.appName('Spark Demo').master('local[*]').getOrCreate()\n"
   ]
  },
  {
   "cell_type": "markdown",
   "metadata": {},
   "source": [
    "# Carregando dados"
   ]
  },
  {
   "cell_type": "code",
   "execution_count": null,
   "metadata": {},
   "outputs": [
    {
     "name": "stderr",
     "output_type": "stream",
     "text": [
      "                                                                                \r"
     ]
    }
   ],
   "source": [
    "transactions_full = spark.read.json((repo_path / 'data' / 'processed' / 'transactions_full').as_posix())"
   ]
  },
  {
   "cell_type": "markdown",
   "metadata": {},
   "source": [
    "# Construção de target"
   ]
  },
  {
   "cell_type": "markdown",
   "metadata": {},
   "source": [
    "Aqui temos algumas opções de modelos e targets que poderiam ser escolhidos. Para as targets, podemos pensar em:\n",
    "\n",
    " - uma oferta enviada, foi comprada? (binária)\n",
    " - uma oferta enviada e aberta, foi comprada? (binária)\n",
    " - qual o valor transacionado graças aquela oferta (regressão, pensando em aumentar o valor transacionado por oferta e não simplesmente o ato da transação)\n",
    " - uplift (impacto incremental) de enviar uma oferta vs não enviar. \n",
    "\n",
    "Para a parte de modelagem, podemos pensar em:\n",
    "\n",
    "- Multi-Class: predizer qual oferta o cliente tem mais chance de converter\n",
    "- Classificador (binário) por oferta: um modelo separado por oferta \n",
    "- Uplift model: um método mais robusto que diz qual cliente de fato precisa de uma oferta para transacionar. (library econml ajuda neste caso).\n",
    "- Reinforcement learning/ multi armed bandits: para balancear o teste de novas ofertas vs \"exploração\" (usar a mais performática), resolvendo com thompson sampling.\n",
    "\n",
    "Para fins de simplicidade e não me alongar muito no case, irei escolher a target como se uma oferta foi enviada, ela foi convertida?Para a modelagem, irei:\n",
    "\n",
    " - Criar um dataset de treino com as features de clientes, das oferta e transações passadas do cliente (até aquela oferta para não haver leakage)\n",
    " - Na hora da inferência, irei variar as informações (features) das ofertas para ver a chance daquele cliente converter aquela oferta, iterando sobre todas"
   ]
  },
  {
   "cell_type": "markdown",
   "metadata": {},
   "source": [
    "Como a base é em um formato de eventos, primeiro devemos construir um dataset indicando se aquela offer pra aquele customer foi bem sucedido (target = 1) ou não (target = 0). Temos que ter o cuidado que a mesma offer pode ser enviada varias vezes em tempos distintos, ou seja, temos que mapear o tempo que ela foi enviada. A dimensão da base é cliente-oferta-tempo"
   ]
  },
  {
   "cell_type": "code",
   "execution_count": 16,
   "metadata": {},
   "outputs": [
    {
     "name": "stdout",
     "output_type": "stream",
     "text": [
      "+--------------------+--------------------+---------------------+\n",
      "|          account_id|            offer_id|time_since_test_start|\n",
      "+--------------------+--------------------+---------------------+\n",
      "|0011e0d4e6b944f99...|3f207df678b143eea...|                  0.0|\n",
      "|0020c2b971eb4e918...|fafdcd668e3743c1b...|                  0.0|\n",
      "|003d66b6608740288...|5a8bc65990b245e5a...|                  0.0|\n",
      "|00426fe3ffde4c6b9...|5a8bc65990b245e5a...|                  0.0|\n",
      "|005500a7188546ff8...|ae264e3637204a6fb...|                  0.0|\n",
      "|0056df74b63b42988...|9b98b8c7a33c4b65b...|                  0.0|\n",
      "|00715b6e55c3431cb...|ae264e3637204a6fb...|                  0.0|\n",
      "|0082fd87c18f45f2b...|5a8bc65990b245e5a...|                  0.0|\n",
      "|00840a2ca5d2408e9...|2906b810c7d441179...|                  0.0|\n",
      "|00857b24b13f4fe0a...|4d5c57ea9a6940dd8...|                  0.0|\n",
      "|008d7088107b46889...|f19421c1d4aa40978...|                  0.0|\n",
      "|0091d2b6a5ea4defa...|4d5c57ea9a6940dd8...|                  0.0|\n",
      "|0092a132ead946ceb...|9b98b8c7a33c4b65b...|                  0.0|\n",
      "|0099bf30e4cb42658...|fafdcd668e3743c1b...|                  0.0|\n",
      "|00a794f62b9a48beb...|3f207df678b143eea...|                  0.0|\n",
      "|00ad4c2cace94f67a...|9b98b8c7a33c4b65b...|                  0.0|\n",
      "|00ae03011f9f49b8a...|5a8bc65990b245e5a...|                  0.0|\n",
      "|00b18b535d6d4f779...|2298d6c36e964ae4a...|                  0.0|\n",
      "|00b3400e4ff64ee68...|3f207df678b143eea...|                  0.0|\n",
      "|00b5fb9d842d437e8...|fafdcd668e3743c1b...|                  0.0|\n",
      "+--------------------+--------------------+---------------------+\n",
      "only showing top 20 rows\n",
      "\n"
     ]
    }
   ],
   "source": [
    "df = (\n",
    "    transactions_full.filter('event = \"offer received\"')\n",
    "    .select(\"account_id\", \"offer_id\", \"time_since_test_start\")\n",
    "    .distinct()\n",
    "    .orderBy(\"time_since_test_start\",\"account_id\")\n",
    ")\n",
    "\n",
    "df.show()"
   ]
  },
  {
   "cell_type": "markdown",
   "metadata": {},
   "source": [
    "Pegando a target: qual oferta foi bem sucedida"
   ]
  },
  {
   "cell_type": "code",
   "execution_count": 17,
   "metadata": {},
   "outputs": [],
   "source": [
    "target1 = (\n",
    "    transactions_full.filter('event = \"offer completed\"')\n",
    "    .select(\"account_id\", \"offer_id\", \"time_since_test_start\")\n",
    "    .distinct()\n",
    "    .withColumn(\"target\", F.lit(1))\n",
    "    .orderBy(\"time_since_test_start\", \"account_id\")\n",
    ")\n",
    "\n"
   ]
  },
  {
   "cell_type": "code",
   "execution_count": 30,
   "metadata": {},
   "outputs": [],
   "source": [
    "dfpd = merge_asof(\n",
    "    left=ps(df),\n",
    "    right=ps(target1),\n",
    "    on=\"time_since_test_start\",\n",
    "    by=[\"account_id\", \"offer_id\"],\n",
    "    direction=\"forward\",\n",
    "    allow_exact_matches=True\n",
    ")"
   ]
  },
  {
   "cell_type": "code",
   "execution_count": 46,
   "metadata": {},
   "outputs": [
    {
     "name": "stderr",
     "output_type": "stream",
     "text": [
      "/home/geo/miniconda3/envs/ifood-env/lib/python3.12/site-packages/pyspark/pandas/utils.py:1016: PandasAPIOnSparkAdviceWarning: If `index_col` is not specified for `to_spark`, the existing index is lost when converting to Spark DataFrame.\n",
      "  warnings.warn(message, PandasAPIOnSparkAdviceWarning)\n"
     ]
    }
   ],
   "source": [
    "dfpd['target'] = dfpd['target'].fillna(0)\n",
    "df = dfpd.to_spark()"
   ]
  },
  {
   "cell_type": "code",
   "execution_count": null,
   "metadata": {},
   "outputs": [],
   "source": []
  },
  {
   "cell_type": "code",
   "execution_count": 59,
   "metadata": {},
   "outputs": [
    {
     "name": "stdout",
     "output_type": "stream",
     "text": [
      "+--------------------+--------------------+---------------------+---------------+\n",
      "|          account_id|            offer_id|time_since_test_start|num_past_offers|\n",
      "+--------------------+--------------------+---------------------+---------------+\n",
      "|0020ccbbb6d84e358...|2298d6c36e964ae4a...|                  7.0|              0|\n",
      "|0020ccbbb6d84e358...|f19421c1d4aa40978...|                 14.0|              1|\n",
      "|0020ccbbb6d84e358...|5a8bc65990b245e5a...|                 17.0|              2|\n",
      "|0020ccbbb6d84e358...|9b98b8c7a33c4b65b...|                 21.0|              3|\n",
      "|00426fe3ffde4c6b9...|5a8bc65990b245e5a...|                  0.0|              0|\n",
      "|00426fe3ffde4c6b9...|fafdcd668e3743c1b...|                  7.0|              1|\n",
      "|00426fe3ffde4c6b9...|0b1e1539f2cc45b7b...|                 14.0|              2|\n",
      "|00426fe3ffde4c6b9...|2906b810c7d441179...|                 17.0|              3|\n",
      "|00426fe3ffde4c6b9...|2906b810c7d441179...|                 24.0|              4|\n",
      "|004b041fbfe448599...|3f207df678b143eea...|                  7.0|              0|\n",
      "|004b041fbfe448599...|f19421c1d4aa40978...|                 21.0|              1|\n",
      "|004b041fbfe448599...|fafdcd668e3743c1b...|                 24.0|              2|\n",
      "|004c5799adbf42868...|fafdcd668e3743c1b...|                  7.0|              0|\n",
      "|004c5799adbf42868...|ae264e3637204a6fb...|                 14.0|              1|\n",
      "|004c5799adbf42868...|f19421c1d4aa40978...|                 17.0|              2|\n",
      "|004c5799adbf42868...|f19421c1d4aa40978...|                 21.0|              3|\n",
      "|004c5799adbf42868...|fafdcd668e3743c1b...|                 24.0|              4|\n",
      "|005500a7188546ff8...|ae264e3637204a6fb...|                  0.0|              0|\n",
      "|005500a7188546ff8...|ae264e3637204a6fb...|                  7.0|              1|\n",
      "|005500a7188546ff8...|2906b810c7d441179...|                 17.0|              2|\n",
      "+--------------------+--------------------+---------------------+---------------+\n",
      "only showing top 20 rows\n",
      "\n"
     ]
    }
   ],
   "source": [
    "# Calculate historical metrics per account up to each offer received\n",
    "window = Window.partitionBy(\"account_id\").orderBy(\"time_since_test_start\")\n",
    "\n",
    "total_past_offers = (\n",
    "    transactions_full.filter('event = \"offer received\"')\n",
    "    .withColumn(\n",
    "        \"num_past_offers\",\n",
    "        F.count(\"offer_id\").over(window.rangeBetween(Window.unboundedPreceding, -1)),\n",
    "    )\n",
    "    .select(\"account_id\", \"offer_id\", \"time_since_test_start\", \"num_past_offers\")\n",
    ")\n",
    "\n",
    "total_past_offers.show()"
   ]
  },
  {
   "cell_type": "code",
   "execution_count": 61,
   "metadata": {},
   "outputs": [
    {
     "name": "stderr",
     "output_type": "stream",
     "text": [
      "[Stage 626:>                                                      (0 + 10) / 10]\r"
     ]
    },
    {
     "name": "stdout",
     "output_type": "stream",
     "text": [
      "+--------------------+------+---------------+--------------------+------+---------------------+---------------+\n",
      "|          account_id|amount|          event|            offer_id|reward|time_since_test_start|num_past_viewed|\n",
      "+--------------------+------+---------------+--------------------+------+---------------------+---------------+\n",
      "|0020ccbbb6d84e358...| 16.27|    transaction|                NULL|  NULL|                 1.75|           NULL|\n",
      "|0020ccbbb6d84e358...|  NULL| offer received|2298d6c36e964ae4a...|  NULL|                  7.0|              0|\n",
      "|0020ccbbb6d84e358...|  NULL|   offer viewed|2298d6c36e964ae4a...|  NULL|                  7.0|              0|\n",
      "|0020ccbbb6d84e358...| 11.65|    transaction|                NULL|  NULL|                 9.25|              1|\n",
      "|0020ccbbb6d84e358...|  NULL|offer completed|2298d6c36e964ae4a...|   3.0|                 9.25|              1|\n",
      "|0020ccbbb6d84e358...| 13.86|    transaction|                NULL|  NULL|                 10.0|              1|\n",
      "|0020ccbbb6d84e358...|  6.81|    transaction|                NULL|  NULL|                 11.5|              1|\n",
      "|0020ccbbb6d84e358...| 14.27|    transaction|                NULL|  NULL|                 12.5|              1|\n",
      "|0020ccbbb6d84e358...|  NULL| offer received|f19421c1d4aa40978...|  NULL|                 14.0|              1|\n",
      "|0020ccbbb6d84e358...|  NULL|   offer viewed|f19421c1d4aa40978...|  NULL|                 14.5|              1|\n",
      "|0020ccbbb6d84e358...| 14.53|    transaction|                NULL|  NULL|                15.75|              2|\n",
      "|0020ccbbb6d84e358...|  NULL|offer completed|f19421c1d4aa40978...|   5.0|                15.75|              2|\n",
      "|0020ccbbb6d84e358...|  NULL| offer received|5a8bc65990b245e5a...|  NULL|                 17.0|              2|\n",
      "|0020ccbbb6d84e358...|  NULL|   offer viewed|5a8bc65990b245e5a...|  NULL|                 17.0|              2|\n",
      "|0020ccbbb6d84e358...|  8.93|    transaction|                NULL|  NULL|                17.75|              2|\n",
      "|0020ccbbb6d84e358...| 20.08|    transaction|                NULL|  NULL|                 18.0|              3|\n",
      "|0020ccbbb6d84e358...| 10.76|    transaction|                NULL|  NULL|                18.75|              3|\n",
      "|0020ccbbb6d84e358...|  19.1|    transaction|                NULL|  NULL|                19.25|              3|\n",
      "|0020ccbbb6d84e358...|  NULL| offer received|9b98b8c7a33c4b65b...|  NULL|                 21.0|              3|\n",
      "|0020ccbbb6d84e358...|  NULL|   offer viewed|9b98b8c7a33c4b65b...|  NULL|                24.25|              3|\n",
      "+--------------------+------+---------------+--------------------+------+---------------------+---------------+\n",
      "only showing top 20 rows\n",
      "\n"
     ]
    },
    {
     "name": "stderr",
     "output_type": "stream",
     "text": [
      "                                                                                \r"
     ]
    }
   ],
   "source": [
    "\n",
    "transactions.withColumn(\n",
    "    \"num_past_viewed\",\n",
    "    F.sum(F.when(F.col(\"event\") == \"offer viewed\", 1).otherwise(0))\n",
    "    .over(window.rangeBetween(Window.unboundedPreceding, -1))\n",
    ").show()\n"
   ]
  },
  {
   "cell_type": "code",
   "execution_count": null,
   "metadata": {},
   "outputs": [],
   "source": [
    "\n",
    "# Join with transactions to get transaction metrics\n",
    "transactions_agg = (\n",
    "    transactions_full\n",
    "    .filter(F.col(\"event\") == \"transaction\")\n",
    "    .groupBy(\"account_id\")\n",
    "    .agg(\n",
    "        F.count(\"amount\").alias(\"total_transactions\"),\n",
    "        F.sum(\"amount\").alias(\"total_amount\"),\n",
    "        F.sum(\"reward\").alias(\"total_reward\")\n",
    "    )\n",
    ")\n",
    "\n",
    "df = df.join(transactions_agg, \"account_id\", \"left\")\n",
    "\n",
    "# Fill nulls with 0 for accounts with no transactions\n",
    "df = df.na.fill({\n",
    "    \"total_transactions\": 0,\n",
    "    \"total_amount\": 0.0,\n",
    "    \"total_reward\": 0.0\n",
    "})\n",
    "\n",
    "\n",
    "\n",
    "\n",
    "\n"
   ]
  },
  {
   "cell_type": "code",
   "execution_count": 52,
   "metadata": {},
   "outputs": [],
   "source": [
    "transactions = spark.read.json((repo_path / 'data' / 'processed' / 'transactions').as_posix())"
   ]
  },
  {
   "cell_type": "code",
   "execution_count": 53,
   "metadata": {},
   "outputs": [
    {
     "name": "stdout",
     "output_type": "stream",
     "text": [
      "+--------------------------------+------+---------------+--------------------------------+------+---------------------+\n",
      "|account_id                      |amount|event          |offer_id                        |reward|time_since_test_start|\n",
      "+--------------------------------+------+---------------+--------------------------------+------+---------------------+\n",
      "|00a794f62b9a48beb58f8f6c02c2f1a6|NULL  |offer received |3f207df678b143eea3cee63160fa8bed|NULL  |0.0                  |\n",
      "|00a794f62b9a48beb58f8f6c02c2f1a6|6.03  |transaction    |NULL                            |NULL  |0.75                 |\n",
      "|00a794f62b9a48beb58f8f6c02c2f1a6|NULL  |offer viewed   |3f207df678b143eea3cee63160fa8bed|NULL  |1.0                  |\n",
      "|00a794f62b9a48beb58f8f6c02c2f1a6|15.47 |transaction    |NULL                            |NULL  |1.5                  |\n",
      "|00a794f62b9a48beb58f8f6c02c2f1a6|15.88 |transaction    |NULL                            |NULL  |2.25                 |\n",
      "|00a794f62b9a48beb58f8f6c02c2f1a6|17.15 |transaction    |NULL                            |NULL  |4.0                  |\n",
      "|00a794f62b9a48beb58f8f6c02c2f1a6|NULL  |offer received |3f207df678b143eea3cee63160fa8bed|NULL  |7.0                  |\n",
      "|00a794f62b9a48beb58f8f6c02c2f1a6|NULL  |offer viewed   |3f207df678b143eea3cee63160fa8bed|NULL  |7.25                 |\n",
      "|00a794f62b9a48beb58f8f6c02c2f1a6|26.39 |transaction    |NULL                            |NULL  |7.75                 |\n",
      "|00a794f62b9a48beb58f8f6c02c2f1a6|24.18 |transaction    |NULL                            |NULL  |10.0                 |\n",
      "|00a794f62b9a48beb58f8f6c02c2f1a6|NULL  |offer received |3f207df678b143eea3cee63160fa8bed|NULL  |14.0                 |\n",
      "|00a794f62b9a48beb58f8f6c02c2f1a6|NULL  |offer viewed   |3f207df678b143eea3cee63160fa8bed|NULL  |14.75                |\n",
      "|00a794f62b9a48beb58f8f6c02c2f1a6|8.09  |transaction    |NULL                            |NULL  |16.25                |\n",
      "|00a794f62b9a48beb58f8f6c02c2f1a6|NULL  |offer received |4d5c57ea9a6940dd891ad53e9dbe8da0|NULL  |17.0                 |\n",
      "|00a794f62b9a48beb58f8f6c02c2f1a6|NULL  |offer viewed   |4d5c57ea9a6940dd891ad53e9dbe8da0|NULL  |17.25                |\n",
      "|00a794f62b9a48beb58f8f6c02c2f1a6|5.96  |transaction    |NULL                            |NULL  |17.75                |\n",
      "|00a794f62b9a48beb58f8f6c02c2f1a6|NULL  |offer received |f19421c1d4aa40978ebb69ca19b0e20d|NULL  |21.0                 |\n",
      "|00a794f62b9a48beb58f8f6c02c2f1a6|NULL  |offer viewed   |f19421c1d4aa40978ebb69ca19b0e20d|NULL  |21.0                 |\n",
      "|00a794f62b9a48beb58f8f6c02c2f1a6|11.27 |transaction    |NULL                            |NULL  |22.25                |\n",
      "|00a794f62b9a48beb58f8f6c02c2f1a6|NULL  |offer completed|f19421c1d4aa40978ebb69ca19b0e20d|5.0   |22.25                |\n",
      "|00a794f62b9a48beb58f8f6c02c2f1a6|22.15 |transaction    |NULL                            |NULL  |23.25                |\n",
      "|00a794f62b9a48beb58f8f6c02c2f1a6|13.83 |transaction    |NULL                            |NULL  |25.0                 |\n",
      "+--------------------------------+------+---------------+--------------------------------+------+---------------------+\n",
      "\n"
     ]
    }
   ],
   "source": [
    "transactions.filter('account_id = \"00a794f62b9a48beb58f8f6c02c2f1a6\"').show(100,False)"
   ]
  },
  {
   "cell_type": "code",
   "execution_count": 38,
   "metadata": {},
   "outputs": [
    {
     "name": "stdout",
     "output_type": "stream",
     "text": [
      "+--------------------------------+---+------+----------------------------+-----------------+--------------+--------+---------------+------+---------+--------------------------------+-------------+-------------+------+---------------------+\n",
      "|account_id                      |age|amount|channels                    |credit_card_limit|discount_value|duration|event          |gender|min_value|offer_id                        |offer_type   |registered_on|reward|time_since_test_start|\n",
      "+--------------------------------+---+------+----------------------------+-----------------+--------------+--------+---------------+------+---------+--------------------------------+-------------+-------------+------+---------------------+\n",
      "|00a794f62b9a48beb58f8f6c02c2f1a6|88 |NULL  |[web, email, mobile]        |54000.0          |0             |4.0     |offer received |F     |0        |3f207df678b143eea3cee63160fa8bed|informational|2015-10-24   |NULL  |0.0                  |\n",
      "|00a794f62b9a48beb58f8f6c02c2f1a6|88 |6.03  |NULL                        |54000.0          |NULL          |NULL    |transaction    |F     |NULL     |NULL                            |NULL         |2015-10-24   |NULL  |0.75                 |\n",
      "|00a794f62b9a48beb58f8f6c02c2f1a6|88 |NULL  |[web, email, mobile]        |54000.0          |0             |4.0     |offer viewed   |F     |0        |3f207df678b143eea3cee63160fa8bed|informational|2015-10-24   |NULL  |1.0                  |\n",
      "|00a794f62b9a48beb58f8f6c02c2f1a6|88 |15.47 |NULL                        |54000.0          |NULL          |NULL    |transaction    |F     |NULL     |NULL                            |NULL         |2015-10-24   |NULL  |1.5                  |\n",
      "|00a794f62b9a48beb58f8f6c02c2f1a6|88 |15.88 |NULL                        |54000.0          |NULL          |NULL    |transaction    |F     |NULL     |NULL                            |NULL         |2015-10-24   |NULL  |2.25                 |\n",
      "|00a794f62b9a48beb58f8f6c02c2f1a6|88 |17.15 |NULL                        |54000.0          |NULL          |NULL    |transaction    |F     |NULL     |NULL                            |NULL         |2015-10-24   |NULL  |4.0                  |\n",
      "|00a794f62b9a48beb58f8f6c02c2f1a6|88 |NULL  |[web, email, mobile]        |54000.0          |0             |4.0     |offer received |F     |0        |3f207df678b143eea3cee63160fa8bed|informational|2015-10-24   |NULL  |7.0                  |\n",
      "|00a794f62b9a48beb58f8f6c02c2f1a6|88 |NULL  |[web, email, mobile]        |54000.0          |0             |4.0     |offer viewed   |F     |0        |3f207df678b143eea3cee63160fa8bed|informational|2015-10-24   |NULL  |7.25                 |\n",
      "|00a794f62b9a48beb58f8f6c02c2f1a6|88 |26.39 |NULL                        |54000.0          |NULL          |NULL    |transaction    |F     |NULL     |NULL                            |NULL         |2015-10-24   |NULL  |7.75                 |\n",
      "|00a794f62b9a48beb58f8f6c02c2f1a6|88 |24.18 |NULL                        |54000.0          |NULL          |NULL    |transaction    |F     |NULL     |NULL                            |NULL         |2015-10-24   |NULL  |10.0                 |\n",
      "|00a794f62b9a48beb58f8f6c02c2f1a6|88 |NULL  |[web, email, mobile]        |54000.0          |0             |4.0     |offer received |F     |0        |3f207df678b143eea3cee63160fa8bed|informational|2015-10-24   |NULL  |14.0                 |\n",
      "|00a794f62b9a48beb58f8f6c02c2f1a6|88 |NULL  |[web, email, mobile]        |54000.0          |0             |4.0     |offer viewed   |F     |0        |3f207df678b143eea3cee63160fa8bed|informational|2015-10-24   |NULL  |14.75                |\n",
      "|00a794f62b9a48beb58f8f6c02c2f1a6|88 |8.09  |NULL                        |54000.0          |NULL          |NULL    |transaction    |F     |NULL     |NULL                            |NULL         |2015-10-24   |NULL  |16.25                |\n",
      "|00a794f62b9a48beb58f8f6c02c2f1a6|88 |NULL  |[web, email, mobile, social]|54000.0          |10            |5.0     |offer received |F     |10       |4d5c57ea9a6940dd891ad53e9dbe8da0|bogo         |2015-10-24   |NULL  |17.0                 |\n",
      "|00a794f62b9a48beb58f8f6c02c2f1a6|88 |NULL  |[web, email, mobile, social]|54000.0          |10            |5.0     |offer viewed   |F     |10       |4d5c57ea9a6940dd891ad53e9dbe8da0|bogo         |2015-10-24   |NULL  |17.25                |\n",
      "|00a794f62b9a48beb58f8f6c02c2f1a6|88 |5.96  |NULL                        |54000.0          |NULL          |NULL    |transaction    |F     |NULL     |NULL                            |NULL         |2015-10-24   |NULL  |17.75                |\n",
      "|00a794f62b9a48beb58f8f6c02c2f1a6|88 |NULL  |[web, email, mobile, social]|54000.0          |5             |5.0     |offer received |F     |5        |f19421c1d4aa40978ebb69ca19b0e20d|bogo         |2015-10-24   |NULL  |21.0                 |\n",
      "|00a794f62b9a48beb58f8f6c02c2f1a6|88 |NULL  |[web, email, mobile, social]|54000.0          |5             |5.0     |offer viewed   |F     |5        |f19421c1d4aa40978ebb69ca19b0e20d|bogo         |2015-10-24   |NULL  |21.0                 |\n",
      "|00a794f62b9a48beb58f8f6c02c2f1a6|88 |11.27 |NULL                        |54000.0          |NULL          |NULL    |transaction    |F     |NULL     |NULL                            |NULL         |2015-10-24   |NULL  |22.25                |\n",
      "|00a794f62b9a48beb58f8f6c02c2f1a6|88 |NULL  |[web, email, mobile, social]|54000.0          |5             |5.0     |offer completed|F     |5        |f19421c1d4aa40978ebb69ca19b0e20d|bogo         |2015-10-24   |5.0   |22.25                |\n",
      "|00a794f62b9a48beb58f8f6c02c2f1a6|88 |22.15 |NULL                        |54000.0          |NULL          |NULL    |transaction    |F     |NULL     |NULL                            |NULL         |2015-10-24   |NULL  |23.25                |\n",
      "|00a794f62b9a48beb58f8f6c02c2f1a6|88 |13.83 |NULL                        |54000.0          |NULL          |NULL    |transaction    |F     |NULL     |NULL                            |NULL         |2015-10-24   |NULL  |25.0                 |\n",
      "+--------------------------------+---+------+----------------------------+-----------------+--------------+--------+---------------+------+---------+--------------------------------+-------------+-------------+------+---------------------+\n",
      "\n"
     ]
    }
   ],
   "source": [
    "transactions_full.filter('account_id = \"00a794f62b9a48beb58f8f6c02c2f1a6\"').show(100,False)"
   ]
  },
  {
   "cell_type": "code",
   "execution_count": null,
   "metadata": {},
   "outputs": [],
   "source": []
  },
  {
   "cell_type": "code",
   "execution_count": 12,
   "metadata": {},
   "outputs": [
    {
     "name": "stdout",
     "output_type": "stream",
     "text": [
      "+--------------------+----+------+--------------------+-----------------+--------------+--------+--------------+------+---------+--------------------+-------------+-------------+------+---------------------+\n",
      "|          account_id| age|amount|            channels|credit_card_limit|discount_value|duration|         event|gender|min_value|            offer_id|   offer_type|registered_on|reward|time_since_test_start|\n",
      "+--------------------+----+------+--------------------+-----------------+--------------+--------+--------------+------+---------+--------------------+-------------+-------------+------+---------------------+\n",
      "|78afa995795e4d85b...|  75|  NULL|[web, email, mobile]|         100000.0|             5|     7.0|offer received|     F|        5|9b98b8c7a33c4b65b...|         bogo|   2017-05-09|  NULL|                  0.0|\n",
      "|a03223e636434f42a...|NULL|  NULL|        [web, email]|             NULL|             5|    10.0|offer received|  Nulo|       20|0b1e1539f2cc45b7b...|     discount|   2017-08-04|  NULL|                  0.0|\n",
      "|e2127556f4f64592b...|  68|  NULL|[web, email, mobile]|          70000.0|             2|     7.0|offer received|     M|       10|2906b810c7d441179...|     discount|   2018-04-26|  NULL|                  0.0|\n",
      "|8ec6ce2a7e7949b1b...|NULL|  NULL|[web, email, mobi...|             NULL|             2|    10.0|offer received|  Nulo|       10|fafdcd668e3743c1b...|     discount|   2017-09-25|  NULL|                  0.0|\n",
      "|68617ca6246f4fbc8...|NULL|  NULL|[web, email, mobi...|             NULL|            10|     5.0|offer received|  Nulo|       10|4d5c57ea9a6940dd8...|         bogo|   2017-10-02|  NULL|                  0.0|\n",
      "|389bc3fa690240e79...|  65|  NULL|[web, email, mobi...|          53000.0|             5|     5.0|offer received|     M|        5|f19421c1d4aa40978...|         bogo|   2018-02-09|  NULL|                  0.0|\n",
      "|c4863c7985cf408fa...|NULL|  NULL|[web, email, mobi...|             NULL|             3|     7.0|offer received|  Nulo|        7|2298d6c36e964ae4a...|     discount|   2017-08-24|  NULL|                  0.0|\n",
      "|2eeac8d8feae4a8ca...|  58|  NULL|[web, email, mobile]|          51000.0|             0|     4.0|offer received|     M|        0|3f207df678b143eea...|informational|   2017-11-11|  NULL|                  0.0|\n",
      "|aa4862eba776480b8...|  61|  NULL|        [web, email]|          57000.0|             5|    10.0|offer received|     F|       20|0b1e1539f2cc45b7b...|     discount|   2017-09-11|  NULL|                  0.0|\n",
      "|31dda685af34476ca...|  62|  NULL|        [web, email]|          71000.0|             5|    10.0|offer received|     F|       20|0b1e1539f2cc45b7b...|     discount|   2016-02-11|  NULL|                  0.0|\n",
      "+--------------------+----+------+--------------------+-----------------+--------------+--------+--------------+------+---------+--------------------+-------------+-------------+------+---------------------+\n",
      "only showing top 10 rows\n",
      "\n"
     ]
    }
   ],
   "source": [
    "transactions_full.show(10)"
   ]
  },
  {
   "cell_type": "code",
   "execution_count": 9,
   "metadata": {},
   "outputs": [
    {
     "name": "stdout",
     "output_type": "stream",
     "text": [
      "+--------------------------------+-----+\n",
      "|account_id                      |count|\n",
      "+--------------------------------+-----+\n",
      "|da7a7c0dcfcb41a8acc7864a53cf60fb|1    |\n",
      "|3045af4e98794a04a5542d3eac939b1f|2    |\n",
      "|df9fc9a86ca84ef5aedde8925d5838ba|2    |\n",
      "|1bfe13d2453c4185a6486c6817e0d568|2    |\n",
      "|3a4e53046c544134bb1e7782248631d1|2    |\n",
      "|afd41b230f924f9ca8f5ed6249616114|2    |\n",
      "|7ecfc592171f4844bdc05bdbb48d3847|2    |\n",
      "|cae5e211053f4121a389a7da4d631f7f|2    |\n",
      "|fccc9279ba56411f80ffe8ce7e0935cd|2    |\n",
      "|e63e42480aae4ede9f07cac49c8c3f78|2    |\n",
      "|912b9f623b9e4b4eb99b6dc919f09a93|2    |\n",
      "|22617705eec442e0b7b43e5c5f56fb17|2    |\n",
      "|76341c0cc6684b3eb23661e195dfc9a3|3    |\n",
      "|83abd8407034461782483fb32d3d5f5c|3    |\n",
      "|bc0c484263b94b0896f20c5e4fdf3585|3    |\n",
      "|f67a6524092d48a788a415c453bd2e00|3    |\n",
      "|3a4874d8f0ef42b9a1b72294902afea9|3    |\n",
      "|d727102ac242449ab15f1bd1af28e6ff|3    |\n",
      "|af63cf0ed6ad4c458a03cb321927b463|3    |\n",
      "|19a0510b9ce24b9da44618f7161ae72d|3    |\n",
      "|08e7c2a166ff44e4a009a18b5e8e4b81|3    |\n",
      "|2e9660f6e83b49bbb9d533b9317359c4|3    |\n",
      "|1b978feee51d4afe83ecde1ae78907cc|3    |\n",
      "|12ede229379747bd8d74ccdc20097ca3|3    |\n",
      "|ce1579c557c14f7785869dc80638bc0f|3    |\n",
      "|50f26d1787444bb6a1e1b8be501f6877|3    |\n",
      "|fafcd6ee168140fbbb5da43be1d3daa7|3    |\n",
      "|0a9fe790648c471bb8ee7bd554ce3122|4    |\n",
      "|ffed75d3abc64b488982f50ed12878b5|4    |\n",
      "|154dfaa196014a438640028a7e4101d4|4    |\n",
      "|0b8684abe074418d9ec08eee090f1859|4    |\n",
      "|0c6ba803d2c84d71b0f0980a03912398|4    |\n",
      "|7378619969094009af10e2097b4a5f76|4    |\n",
      "|6ad15a55a2b746b180e18c1757d2c4be|4    |\n",
      "|c381677d2703470a9c1f7fddc39a32a6|4    |\n",
      "|11e2d9f6ef474d13bcf1db21f5c7bb62|4    |\n",
      "|6f8046e4e6c14ea699cfb964d67f5e4f|4    |\n",
      "|91b4ffda0b294d6eb73aab7658960733|4    |\n",
      "|a33e1e7f26ea4b9a824bf1902ee073fc|4    |\n",
      "|6ac3a35e06d848e9b02ec09e74d1ff7b|4    |\n",
      "|c3f3b8193c8a4133b8bd0654f82654a1|4    |\n",
      "|887a686672ec4e6394e82f0e2a17777e|4    |\n",
      "|df1395e0c96e4187a796569a356a1a75|4    |\n",
      "|9e109816ddc84a6aa93fa1793c3291e1|4    |\n",
      "|cfe28bb92b1e47cc974e151f16eb07bf|4    |\n",
      "|a1cf230d997a4037b723673d19f00bac|4    |\n",
      "|c6e579c6821c41d1a7a6a9cf936e91bb|4    |\n",
      "|76cce6e2462f4b08a83ba86758b85e95|4    |\n",
      "|d957b9bd21fd4cacb39aab4b2834704b|4    |\n",
      "|901ae89d52174d75866782d162ea1d8f|4    |\n",
      "|9fcbff4f8d7241faa4ab8a9d19c8a812|4    |\n",
      "|f8eff6816be34191b76e9b4614ce5224|4    |\n",
      "|9d6e4253c7424f2abaebe398bcd78355|4    |\n",
      "|eb540099db834cf59001f83a4561aef3|4    |\n",
      "|6955267a2151491882b0c660267691d2|4    |\n",
      "|5e729e38e6fb430188dee2aad9427200|4    |\n",
      "|f0c6c6a4fd6e485ca767ac21a78fb4af|4    |\n",
      "|439b5d9ddd9946e68c6f6b6ad197e710|4    |\n",
      "|b52302342d674c9784218a66bf550cca|4    |\n",
      "|6fb8202f2b8f406197f1ef9e4c30c8d1|4    |\n",
      "|109c657e856f4722b46a9183aaaf8c95|4    |\n",
      "|7c5c8800b9ac44fc9bf8bff7eb2ecb7f|4    |\n",
      "|f0e126082e4940749c3087f8016106a0|4    |\n",
      "|8578196a074a4f328976e334fa9383a3|4    |\n",
      "|96fa841c065d482bad03b19a7acfe95d|5    |\n",
      "|2d49e5a5886c4b9fb82c62a420dd2e85|5    |\n",
      "|724384e51b674088ad22a0ed69405c02|5    |\n",
      "|f47de7e07e1149429d604937326ae500|5    |\n",
      "|4d8213f88ffc446595066a6d6ad619cb|5    |\n",
      "|1f5e62e325d047f4833d1b7aed437f31|5    |\n",
      "|716bbdabd4d0498da48299483c7046d2|5    |\n",
      "|2cd61834c34d4127b161568aa8104d10|5    |\n",
      "|4a7ce2339afc405dbd70ca9d07d98b97|5    |\n",
      "|362858ec6f754ad39c3dfd0923a677f2|5    |\n",
      "|e959acbfc347460b8a55f94fc64e661b|5    |\n",
      "|86a00bb1fc2f4034b0f54374a6b42c1b|5    |\n",
      "|f540ab0d259d4afd93a15d665cbbe094|5    |\n",
      "|fc3444ae44044a218e160522f7de8d8d|5    |\n",
      "|77e4e977834d4eb1ba2a5755731dcf83|5    |\n",
      "|372fc13ae63745a3856111aea90114db|5    |\n",
      "|ffc6c9fbe34b4578911dcdf6745b4c74|5    |\n",
      "|57760e0d402d41ea970481bd848d1f51|5    |\n",
      "|da2ceca6f14d44ab94aec06c254435dc|5    |\n",
      "|c39913cf356a4dfc98f0326c42878193|5    |\n",
      "|fecbf0774931488781713494b726a121|5    |\n",
      "|d470c8da3a134e13951d3ca40cc4d678|5    |\n",
      "|ae8111e7e8cd4b60a8d35c42c1110555|5    |\n",
      "|08b352c3e09a42e1900892a317f2b84e|5    |\n",
      "|76e4c32f141f4bd1b1a905cf6b28bcfa|5    |\n",
      "|c84fe4915ef74c7f9e81b003d3ecf54c|5    |\n",
      "|47683732768a4f7db7abb710ca22e66e|5    |\n",
      "|1d5ac44f1f604c2490aaa10f2a1280ea|5    |\n",
      "|cd1f2f7d93614d5ea28f27c4875be0ff|5    |\n",
      "|cabc2b86a6d44f6b931f2bf546f593ab|5    |\n",
      "|dec84283d63e4e69809ed531f9e19b3a|5    |\n",
      "|ddd92ad1b92f4a79be14e1067731a87d|5    |\n",
      "|8c623041aa7e408092e225e5cbd1767f|5    |\n",
      "|683537f4b0f84e52bb4781d544da9070|5    |\n",
      "|3389da76083a40d399af9642163b5cd3|5    |\n",
      "|f075c3147b8b442e85f713719a250b67|5    |\n",
      "|7864a58fc3da452ab7ec1b5cd230ee15|5    |\n",
      "|0cfc8087b52b413f98f20f433ca54b23|5    |\n",
      "|83b1bc5c6c4242cfb39f889e57ce47c7|5    |\n",
      "|92ee39236adb4aea87e5d4c96026f0f1|5    |\n",
      "|a54c482807c3487aad8f4f3a9a65e389|5    |\n",
      "|0a570779782948acb54f2f8e31a49c21|5    |\n",
      "|6d1db7102dbd4acbacc4f40b25cee1d8|5    |\n",
      "|4f32d6947d4e4e07bb37c04bd8976316|5    |\n",
      "|f89cde99c9bf4182a371dd808a0ad2f1|5    |\n",
      "|dd718ccfdb534078b6dac7ed3ea78673|5    |\n",
      "|dd1fdc99f5e04c46a691904b75c691af|5    |\n",
      "|3622ea602ea242a68bf3bf73df66bbb9|5    |\n",
      "|267b167e0b714ae3b4c4216fe0deb31f|5    |\n",
      "|53696ba3fa0d4cada4b9aed2b61b5b22|5    |\n",
      "|37ca07481c124d98ac1eaca5ee1f4146|5    |\n",
      "|5258f977542b49e5ab596382341b3a29|5    |\n",
      "|2682bb50eda949cfafb70837c61270d9|5    |\n",
      "|9fde7b28470b494ab6b5e801b1d3eafa|5    |\n",
      "|07f1d6d949634863bb93b0e9fd0dc8f0|5    |\n",
      "|45893c3890f14906a2143e55fd3cbf6f|5    |\n",
      "+--------------------------------+-----+\n",
      "only showing top 120 rows\n",
      "\n"
     ]
    },
    {
     "name": "stderr",
     "output_type": "stream",
     "text": [
      "                                                                                \r"
     ]
    }
   ],
   "source": [
    "transactions_full.groupBy('account_id').count().orderBy('count', ascending=True).show(120,False)"
   ]
  },
  {
   "cell_type": "code",
   "execution_count": 10,
   "metadata": {},
   "outputs": [
    {
     "name": "stdout",
     "output_type": "stream",
     "text": [
      "+--------------------+---+------+--------------------+-----------------+--------------+--------+--------------+------+---------+--------------------+----------+-------------+------+---------------------+\n",
      "|          account_id|age|amount|            channels|credit_card_limit|discount_value|duration|         event|gender|min_value|            offer_id|offer_type|registered_on|reward|time_since_test_start|\n",
      "+--------------------+---+------+--------------------+-----------------+--------------+--------+--------------+------+---------+--------------------+----------+-------------+------+---------------------+\n",
      "|afd41b230f924f9ca...| 51|  NULL|        [web, email]|          78000.0|             5|    10.0|offer received|     M|       20|0b1e1539f2cc45b7b...|  discount|   2017-01-03|  NULL|                 17.0|\n",
      "|afd41b230f924f9ca...| 51|  NULL|[email, mobile, s...|          78000.0|            10|     7.0|offer received|     M|       10|ae264e3637204a6fb...|      bogo|   2017-01-03|  NULL|                 24.0|\n",
      "+--------------------+---+------+--------------------+-----------------+--------------+--------+--------------+------+---------+--------------------+----------+-------------+------+---------------------+\n",
      "\n"
     ]
    }
   ],
   "source": [
    "transactions_full.filter(F.col('account_id') == 'afd41b230f924f9ca8f5ed6249616114').show()"
   ]
  },
  {
   "cell_type": "code",
   "execution_count": null,
   "metadata": {},
   "outputs": [],
   "source": []
  },
  {
   "cell_type": "code",
   "execution_count": null,
   "metadata": {},
   "outputs": [],
   "source": []
  },
  {
   "cell_type": "code",
   "execution_count": null,
   "metadata": {},
   "outputs": [],
   "source": []
  }
 ],
 "metadata": {
  "kernelspec": {
   "display_name": "ifood-env",
   "language": "python",
   "name": "python3"
  },
  "language_info": {
   "codemirror_mode": {
    "name": "ipython",
    "version": 3
   },
   "file_extension": ".py",
   "mimetype": "text/x-python",
   "name": "python",
   "nbconvert_exporter": "python",
   "pygments_lexer": "ipython3",
   "version": "3.12.10"
  }
 },
 "nbformat": 4,
 "nbformat_minor": 2
}
