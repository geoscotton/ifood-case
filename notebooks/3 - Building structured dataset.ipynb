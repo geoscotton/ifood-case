{
 "cells": [
  {
   "cell_type": "markdown",
   "metadata": {},
   "source": []
  },
  {
   "cell_type": "markdown",
   "metadata": {},
   "source": [
    "Este notebook tem o intuito de construir um dataset estruturado para a modelagem"
   ]
  },
  {
   "cell_type": "markdown",
   "metadata": {},
   "source": [
    "# Setting up"
   ]
  },
  {
   "cell_type": "code",
   "execution_count": 1,
   "metadata": {},
   "outputs": [
    {
     "name": "stderr",
     "output_type": "stream",
     "text": [
      "/home/geo/miniconda3/envs/ifood-env/lib/python3.12/site-packages/pyspark/pandas/__init__.py:50: UserWarning: 'PYARROW_IGNORE_TIMEZONE' environment variable was not set. It is required to set this environment variable to '1' in both driver and executor sides if you use pyarrow>=2.0.0. pandas-on-Spark will set it for you but it does not work if there is a Spark context already launched.\n",
      "  warnings.warn(\n",
      "your 131072x1 screen size is bogus. expect trouble\n",
      "25/05/16 13:40:23 WARN Utils: Your hostname, George-Book3 resolves to a loopback address: 127.0.1.1; using 172.23.250.106 instead (on interface eth0)\n",
      "25/05/16 13:40:23 WARN Utils: Set SPARK_LOCAL_IP if you need to bind to another address\n",
      "Setting default log level to \"WARN\".\n",
      "To adjust logging level use sc.setLogLevel(newLevel). For SparkR, use setLogLevel(newLevel).\n",
      "25/05/16 13:40:25 WARN NativeCodeLoader: Unable to load native-hadoop library for your platform... using builtin-java classes where applicable\n",
      "25/05/16 13:40:26 WARN Utils: Service 'SparkUI' could not bind on port 4040. Attempting port 4041.\n"
     ]
    }
   ],
   "source": [
    "import pandas as pd\n",
    "import numpy as np\n",
    "import matplotlib.pyplot as plt\n",
    "import seaborn as sns\n",
    "from pyspark.sql import SparkSession\n",
    "from pyspark.sql import functions as F\n",
    "from pyspark.pandas import merge_asof\n",
    "from pyspark.pandas import DataFrame as ps\n",
    "from pyspark.sql import Window\n",
    "\n",
    "from pathlib import Path\n",
    "\n",
    "# current repo path \n",
    "repo_path = Path().resolve().parent\n",
    "\n",
    "spark = SparkSession.builder.appName('Spark Demo').master('local[*]').getOrCreate()\n"
   ]
  },
  {
   "cell_type": "markdown",
   "metadata": {},
   "source": [
    "# Carregando dados"
   ]
  },
  {
   "cell_type": "code",
   "execution_count": 54,
   "metadata": {},
   "outputs": [],
   "source": [
    "transactions_full = spark.read.json((repo_path / 'data' / 'processed' / 'transactions_full').as_posix())"
   ]
  },
  {
   "cell_type": "markdown",
   "metadata": {},
   "source": [
    "# Construção de target"
   ]
  },
  {
   "cell_type": "markdown",
   "metadata": {},
   "source": [
    "Aqui temos algumas opções de modelos e targets que poderiam ser escolhidos. Para as targets, podemos pensar em:\n",
    "\n",
    " - uma oferta enviada, foi comprada? (binária)\n",
    " - uma oferta enviada e aberta, foi comprada? (binária)\n",
    " - qual o valor transacionado graças aquela oferta (regressão, pensando em aumentar o valor transacionado por oferta e não simplesmente o ato da transação)\n",
    " - uplift (impacto incremental) de enviar uma oferta vs não enviar. \n",
    "\n",
    "Para a parte de modelagem, podemos pensar em:\n",
    "\n",
    "- Multi-Class: predizer qual oferta o cliente tem mais chance de converter\n",
    "- Classificador (binário) por oferta: um modelo separado por oferta \n",
    "- Uplift model: um método mais robusto que diz qual cliente de fato precisa de uma oferta para transacionar. (library econml ajuda neste caso).\n",
    "- Reinforcement learning/ multi armed bandits: para balancear o teste de novas ofertas vs \"exploração\" (usar a mais performática), resolvendo com thompson sampling.\n",
    "\n",
    "Para fins de simplicidade e não me alongar muito no case, irei escolher a target como se uma oferta foi enviada, ela foi convertida?Para a modelagem, irei:\n",
    "\n",
    " - Criar um dataset de treino com as features de clientes, das oferta e transações passadas do cliente (até aquela oferta para não haver leakage)\n",
    " - Na hora da inferência, irei variar as informações (features) das ofertas para ver a chance daquele cliente converter aquela oferta, iterando sobre todas"
   ]
  },
  {
   "cell_type": "markdown",
   "metadata": {},
   "source": [
    "Como a base é em um formato de eventos, primeiro devemos construir um dataset indicando se aquela offer pra aquele customer foi bem sucedido (target = 1) ou não (target = 0). Temos que ter o cuidado que a mesma offer pode ser enviada varias vezes em tempos distintos, ou seja, temos que mapear o tempo que ela foi enviada. A dimensão da base é cliente-oferta-tempo"
   ]
  },
  {
   "cell_type": "code",
   "execution_count": 55,
   "metadata": {},
   "outputs": [
    {
     "name": "stdout",
     "output_type": "stream",
     "text": [
      "+--------------------+--------------------+---------------------+--------------+\n",
      "|          account_id|            offer_id|time_since_test_start|         event|\n",
      "+--------------------+--------------------+---------------------+--------------+\n",
      "|0011e0d4e6b944f99...|3f207df678b143eea...|                  0.0|offer received|\n",
      "|0020c2b971eb4e918...|fafdcd668e3743c1b...|                  0.0|offer received|\n",
      "|003d66b6608740288...|5a8bc65990b245e5a...|                  0.0|offer received|\n",
      "|00426fe3ffde4c6b9...|5a8bc65990b245e5a...|                  0.0|offer received|\n",
      "|005500a7188546ff8...|ae264e3637204a6fb...|                  0.0|offer received|\n",
      "|0056df74b63b42988...|9b98b8c7a33c4b65b...|                  0.0|offer received|\n",
      "|00715b6e55c3431cb...|ae264e3637204a6fb...|                  0.0|offer received|\n",
      "|0082fd87c18f45f2b...|5a8bc65990b245e5a...|                  0.0|offer received|\n",
      "|00840a2ca5d2408e9...|2906b810c7d441179...|                  0.0|offer received|\n",
      "|00857b24b13f4fe0a...|4d5c57ea9a6940dd8...|                  0.0|offer received|\n",
      "|008d7088107b46889...|f19421c1d4aa40978...|                  0.0|offer received|\n",
      "|0091d2b6a5ea4defa...|4d5c57ea9a6940dd8...|                  0.0|offer received|\n",
      "|0092a132ead946ceb...|9b98b8c7a33c4b65b...|                  0.0|offer received|\n",
      "|0099bf30e4cb42658...|fafdcd668e3743c1b...|                  0.0|offer received|\n",
      "|00a794f62b9a48beb...|3f207df678b143eea...|                  0.0|offer received|\n",
      "|00ad4c2cace94f67a...|9b98b8c7a33c4b65b...|                  0.0|offer received|\n",
      "|00ae03011f9f49b8a...|5a8bc65990b245e5a...|                  0.0|offer received|\n",
      "|00b18b535d6d4f779...|2298d6c36e964ae4a...|                  0.0|offer received|\n",
      "|00b3400e4ff64ee68...|3f207df678b143eea...|                  0.0|offer received|\n",
      "|00b5fb9d842d437e8...|fafdcd668e3743c1b...|                  0.0|offer received|\n",
      "+--------------------+--------------------+---------------------+--------------+\n",
      "only showing top 20 rows\n",
      "\n"
     ]
    }
   ],
   "source": [
    "df = (\n",
    "    transactions_full.filter('event = \"offer received\"')\n",
    "    .select(\"account_id\", \"offer_id\", \"time_since_test_start\", \"event\")\n",
    "    .distinct()\n",
    "    .orderBy(\"time_since_test_start\",\"account_id\")\n",
    ")\n",
    "\n",
    "df.show()"
   ]
  },
  {
   "cell_type": "markdown",
   "metadata": {},
   "source": [
    "Pegando a target: qual oferta foi bem sucedida"
   ]
  },
  {
   "cell_type": "code",
   "execution_count": 56,
   "metadata": {},
   "outputs": [],
   "source": [
    "target1 = (\n",
    "    transactions_full.filter('event = \"offer completed\"')\n",
    "    .select(\"account_id\", \"offer_id\", \"time_since_test_start\")\n",
    "    .distinct()\n",
    "    .withColumn(\"target\", F.lit(1))\n",
    "    .orderBy(\"time_since_test_start\", \"account_id\")\n",
    ")\n",
    "\n"
   ]
  },
  {
   "cell_type": "code",
   "execution_count": 57,
   "metadata": {},
   "outputs": [],
   "source": [
    "dfpd = merge_asof(\n",
    "    left=ps(df),\n",
    "    right=ps(target1),\n",
    "    on=\"time_since_test_start\",\n",
    "    by=[\"account_id\", \"offer_id\"],\n",
    "    direction=\"forward\",\n",
    "    allow_exact_matches=True\n",
    ")"
   ]
  },
  {
   "cell_type": "code",
   "execution_count": 58,
   "metadata": {},
   "outputs": [
    {
     "name": "stderr",
     "output_type": "stream",
     "text": [
      "/home/geo/miniconda3/envs/ifood-env/lib/python3.12/site-packages/pyspark/pandas/utils.py:1016: PandasAPIOnSparkAdviceWarning: If `index_col` is not specified for `to_spark`, the existing index is lost when converting to Spark DataFrame.\n",
      "  warnings.warn(message, PandasAPIOnSparkAdviceWarning)\n"
     ]
    }
   ],
   "source": [
    "dfpd['target'] = dfpd['target'].fillna(0)\n",
    "df = dfpd.to_spark()"
   ]
  },
  {
   "cell_type": "markdown",
   "metadata": {},
   "source": [
    "## Replace de offer informational\n",
    "\n",
    "Diferentemente das outras offers, a offers type informational nao tem um \"Offer completed\", então precisamos rever sua lógica. Para isso, teremos a premissão: se houve transação entre uma offer informational e uma next offer, ela foi bem sucedida. Se não, continua com 0"
   ]
  },
  {
   "cell_type": "code",
   "execution_count": 8,
   "metadata": {},
   "outputs": [],
   "source": [
    "transactions = spark.read.json((repo_path / 'data' / 'processed' / 'transactions').as_posix())"
   ]
  },
  {
   "cell_type": "code",
   "execution_count": 47,
   "metadata": {},
   "outputs": [],
   "source": [
    "informational_offers = (\n",
    "    spark.read.json((repo_path / \"data\" / \"processed\" / \"offers\").as_posix())\n",
    "    .filter('offer_type = \"informational\"')\n",
    "    .select(\"id\")\n",
    "    .distinct()\n",
    "    .collect()\n",
    ")\n",
    "informational_offers = [x.id for x in informational_offers]"
   ]
  },
  {
   "cell_type": "code",
   "execution_count": 50,
   "metadata": {},
   "outputs": [],
   "source": [
    "window_next = Window.partitionBy(\"account_id\").orderBy(\"time_since_test_start\")\n",
    "\n",
    "# pegando time da proxima offer\n",
    "next_offers = df.withColumn(\n",
    "    \"next_offer_time\", F.lead(\"time_since_test_start\").over(window_next)\n",
    ")\n",
    "\n",
    "# pegando transações entre uma offer informational e a proxima oferta \n",
    "# e vendo se a transação esta entre os dois timestamps (ou nula, ultima oferta)\n",
    "informational_success = (\n",
    "    next_offers.filter(F.col(\"offer_id\").isin(informational_offers))\n",
    "    .join(\n",
    "        transactions.filter('event = \"transaction\"').select(\n",
    "            \"account_id\",\n",
    "            F.col(\"time_since_test_start\").alias(\"time_since_test_start_transaction\"),\n",
    "        ),\n",
    "        on=\"account_id\",\n",
    "        how=\"left\",\n",
    "    )\n",
    "    .filter(\n",
    "        (F.col(\"time_since_test_start_transaction\") >= F.col(\"time_since_test_start\"))\n",
    "        & (\n",
    "            (F.col(\"time_since_test_start_transaction\") < F.col(\"next_offer_time\"))\n",
    "            | (F.col(\"next_offer_time\").isNull())\n",
    "        )\n",
    "    )\n",
    "    .select(\"account_id\", \"offer_id\", next_offers.time_since_test_start)\n",
    "    .distinct()\n",
    "    .withColumn(\"target_informational\", F.lit(1))\n",
    ")"
   ]
  },
  {
   "cell_type": "code",
   "execution_count": 68,
   "metadata": {},
   "outputs": [],
   "source": [
    "\n",
    "# atualizando a target do df\n",
    "df = (\n",
    "    df\n",
    "    .join(\n",
    "        informational_success,\n",
    "        on=[\"account_id\", \"offer_id\", \"time_since_test_start\"],\n",
    "        how=\"left\"\n",
    "    )\n",
    "    .withColumn(\n",
    "        \"target\",\n",
    "        F.when(\n",
    "            F.col(\"offer_id\").isin(informational_offers),\n",
    "            F.coalesce(F.col('target_informational'), F.lit(0))\n",
    "        )\n",
    "        .otherwise(F.col(\"target\"))\n",
    "    )\n",
    "    .drop('target_informational')\n",
    ")\n"
   ]
  },
  {
   "cell_type": "markdown",
   "metadata": {},
   "source": [
    "# Construção de features"
   ]
  },
  {
   "cell_type": "code",
   "execution_count": 69,
   "metadata": {},
   "outputs": [
    {
     "name": "stdout",
     "output_type": "stream",
     "text": [
      "+--------------------+--------------------+--------------+---------------------+---------------+\n",
      "|          account_id|            offer_id|         event|time_since_test_start|num_past_offers|\n",
      "+--------------------+--------------------+--------------+---------------------+---------------+\n",
      "|0020ccbbb6d84e358...|2298d6c36e964ae4a...|offer received|                  7.0|              0|\n",
      "|0020ccbbb6d84e358...|f19421c1d4aa40978...|offer received|                 14.0|              1|\n",
      "|0020ccbbb6d84e358...|5a8bc65990b245e5a...|offer received|                 17.0|              2|\n",
      "|0020ccbbb6d84e358...|9b98b8c7a33c4b65b...|offer received|                 21.0|              3|\n",
      "|00426fe3ffde4c6b9...|5a8bc65990b245e5a...|offer received|                  0.0|              0|\n",
      "|00426fe3ffde4c6b9...|fafdcd668e3743c1b...|offer received|                  7.0|              1|\n",
      "|00426fe3ffde4c6b9...|0b1e1539f2cc45b7b...|offer received|                 14.0|              2|\n",
      "|00426fe3ffde4c6b9...|2906b810c7d441179...|offer received|                 17.0|              3|\n",
      "|00426fe3ffde4c6b9...|2906b810c7d441179...|offer received|                 24.0|              4|\n",
      "|004b041fbfe448599...|3f207df678b143eea...|offer received|                  7.0|              0|\n",
      "|004b041fbfe448599...|f19421c1d4aa40978...|offer received|                 21.0|              1|\n",
      "|004b041fbfe448599...|fafdcd668e3743c1b...|offer received|                 24.0|              2|\n",
      "|004c5799adbf42868...|fafdcd668e3743c1b...|offer received|                  7.0|              0|\n",
      "|004c5799adbf42868...|ae264e3637204a6fb...|offer received|                 14.0|              1|\n",
      "|004c5799adbf42868...|f19421c1d4aa40978...|offer received|                 17.0|              2|\n",
      "|004c5799adbf42868...|f19421c1d4aa40978...|offer received|                 21.0|              3|\n",
      "|004c5799adbf42868...|fafdcd668e3743c1b...|offer received|                 24.0|              4|\n",
      "|005500a7188546ff8...|ae264e3637204a6fb...|offer received|                  0.0|              0|\n",
      "|005500a7188546ff8...|ae264e3637204a6fb...|offer received|                  7.0|              1|\n",
      "|005500a7188546ff8...|2906b810c7d441179...|offer received|                 17.0|              2|\n",
      "+--------------------+--------------------+--------------+---------------------+---------------+\n",
      "only showing top 20 rows\n",
      "\n"
     ]
    }
   ],
   "source": [
    "# Calculando total de ofertas enviadas anterioremente aos clientes\n",
    "window = Window.partitionBy(\"account_id\").orderBy(\"time_since_test_start\")\n",
    "\n",
    "total_past_offers = (\n",
    "    transactions_full.filter('event = \"offer received\"')\n",
    "    .withColumn(\n",
    "        \"num_past_offers\",\n",
    "        F.count(\"offer_id\").over(window.rangeBetween(Window.unboundedPreceding, -1)),\n",
    "    )\n",
    "    .select(\"account_id\", \"offer_id\", 'event', \"time_since_test_start\", \"num_past_offers\")\n",
    ")\n",
    "\n",
    "total_past_offers.show()"
   ]
  },
  {
   "cell_type": "code",
   "execution_count": 70,
   "metadata": {},
   "outputs": [
    {
     "name": "stdout",
     "output_type": "stream",
     "text": [
      "+--------------------+--------------------+---------------------+---------------+---------------+\n",
      "|          account_id|            offer_id|time_since_test_start|          event|num_past_viewed|\n",
      "+--------------------+--------------------+---------------------+---------------+---------------+\n",
      "|0020ccbbb6d84e358...|                NULL|                 1.75|    transaction|           NULL|\n",
      "|0020ccbbb6d84e358...|2298d6c36e964ae4a...|                  7.0| offer received|              0|\n",
      "|0020ccbbb6d84e358...|2298d6c36e964ae4a...|                  7.0|   offer viewed|              0|\n",
      "|0020ccbbb6d84e358...|                NULL|                 9.25|    transaction|              1|\n",
      "|0020ccbbb6d84e358...|2298d6c36e964ae4a...|                 9.25|offer completed|              1|\n",
      "|0020ccbbb6d84e358...|                NULL|                 10.0|    transaction|              1|\n",
      "|0020ccbbb6d84e358...|                NULL|                 11.5|    transaction|              1|\n",
      "|0020ccbbb6d84e358...|                NULL|                 12.5|    transaction|              1|\n",
      "|0020ccbbb6d84e358...|f19421c1d4aa40978...|                 14.0| offer received|              1|\n",
      "|0020ccbbb6d84e358...|f19421c1d4aa40978...|                 14.5|   offer viewed|              1|\n",
      "|0020ccbbb6d84e358...|                NULL|                15.75|    transaction|              2|\n",
      "|0020ccbbb6d84e358...|f19421c1d4aa40978...|                15.75|offer completed|              2|\n",
      "|0020ccbbb6d84e358...|5a8bc65990b245e5a...|                 17.0| offer received|              2|\n",
      "|0020ccbbb6d84e358...|5a8bc65990b245e5a...|                 17.0|   offer viewed|              2|\n",
      "|0020ccbbb6d84e358...|                NULL|                17.75|    transaction|              2|\n",
      "|0020ccbbb6d84e358...|                NULL|                 18.0|    transaction|              3|\n",
      "|0020ccbbb6d84e358...|                NULL|                18.75|    transaction|              3|\n",
      "|0020ccbbb6d84e358...|                NULL|                19.25|    transaction|              3|\n",
      "|0020ccbbb6d84e358...|9b98b8c7a33c4b65b...|                 21.0| offer received|              3|\n",
      "|0020ccbbb6d84e358...|9b98b8c7a33c4b65b...|                24.25|   offer viewed|              3|\n",
      "+--------------------+--------------------+---------------------+---------------+---------------+\n",
      "only showing top 20 rows\n",
      "\n"
     ]
    }
   ],
   "source": [
    "# total de views anteriores da oferta\n",
    "total_past_views = transactions.withColumn(\n",
    "    \"num_past_viewed\",\n",
    "    F.sum(F.when(F.col(\"event\") == \"offer viewed\", 1).otherwise(0)).over(\n",
    "        window.rangeBetween(Window.unboundedPreceding, -1)\n",
    "    ),\n",
    ").select('account_id', 'offer_id', 'time_since_test_start', 'event', 'num_past_viewed')\n",
    "total_past_views.show()"
   ]
  },
  {
   "cell_type": "code",
   "execution_count": 71,
   "metadata": {},
   "outputs": [],
   "source": [
    "df = df.join(\n",
    "    total_past_offers,\n",
    "    on=[\"account_id\", \"offer_id\", \"time_since_test_start\", \"event\"],\n",
    "    how=\"left\",\n",
    ").join(\n",
    "    total_past_views,\n",
    "    on=[\"account_id\", \"offer_id\", \"time_since_test_start\", \"event\"],\n",
    "    how=\"left\",\n",
    ")"
   ]
  },
  {
   "cell_type": "code",
   "execution_count": 72,
   "metadata": {},
   "outputs": [],
   "source": [
    "# soma de amounts passados até aquela oferta\n",
    "total_past_amount = transactions.withColumn(\n",
    "    \"total_past_amount\",\n",
    "    F.sum(F.col(\"amount\")).over(window.rangeBetween(Window.unboundedPreceding, -1)),\n",
    ").select(\n",
    "    \"account_id\", \"offer_id\", \"time_since_test_start\", \"event\", \"total_past_amount\"\n",
    ")"
   ]
  },
  {
   "cell_type": "code",
   "execution_count": 73,
   "metadata": {},
   "outputs": [],
   "source": [
    "df = df.join(\n",
    "    total_past_amount,\n",
    "    on=[\"account_id\", \"offer_id\", \"time_since_test_start\", \"event\"],\n",
    "    how=\"left\",\n",
    ")"
   ]
  },
  {
   "cell_type": "code",
   "execution_count": 74,
   "metadata": {},
   "outputs": [],
   "source": [
    "# soma de rewards passados até aquela oferta\n",
    "total_past_reward = transactions.withColumn(\n",
    "    \"total_past_reward\",\n",
    "    F.sum(F.col(\"reward\")).over(window.rangeBetween(Window.unboundedPreceding, -1)),\n",
    ").select(\n",
    "    \"account_id\", \"offer_id\", \"time_since_test_start\", \"event\", \"total_past_reward\"\n",
    ")"
   ]
  },
  {
   "cell_type": "code",
   "execution_count": 75,
   "metadata": {},
   "outputs": [],
   "source": [
    "df = df.join(\n",
    "    total_past_reward,\n",
    "    on=[\"account_id\", \"offer_id\", \"time_since_test_start\", \"event\"],\n",
    "    how=\"left\",\n",
    ")"
   ]
  },
  {
   "cell_type": "code",
   "execution_count": 76,
   "metadata": {},
   "outputs": [
    {
     "name": "stderr",
     "output_type": "stream",
     "text": [
      "                                                                                \r"
     ]
    },
    {
     "name": "stdout",
     "output_type": "stream",
     "text": [
      "+--------------------+--------------------+---------------------+--------------+------+---------------+---------------+------------------+-----------------+\n",
      "|          account_id|            offer_id|time_since_test_start|         event|target|num_past_offers|num_past_viewed| total_past_amount|total_past_reward|\n",
      "+--------------------+--------------------+---------------------+--------------+------+---------------+---------------+------------------+-----------------+\n",
      "|0020c2b971eb4e918...|ae264e3637204a6fb...|                  7.0|offer received|     0|              1|              1|             98.33|              2.0|\n",
      "|016871ea865d43389...|3f207df678b143eea...|                  7.0|offer received|     0|              1|              0|             14.53|              2.0|\n",
      "|017febbe52e64ac19...|9b98b8c7a33c4b65b...|                  7.0|offer received|     1|              1|              1| 755.2800000000001|             10.0|\n",
      "|01a5e8b57bc04e029...|f19421c1d4aa40978...|                  7.0|offer received|     0|              1|              1|             31.36|              3.0|\n",
      "|021c1940868647efb...|fafdcd668e3743c1b...|                  7.0|offer received|     1|              1|              1|             23.91|              5.0|\n",
      "|029e063479234fb1b...|5a8bc65990b245e5a...|                  7.0|offer received|     1|              1|              0|             49.59|             10.0|\n",
      "|03568fe0e51b41a9b...|2906b810c7d441179...|                  7.0|offer received|     1|              1|              1|             16.35|             10.0|\n",
      "|04ca4f4a66934cec9...|5a8bc65990b245e5a...|                  7.0|offer received|     1|              1|              0|28.340000000000003|              5.0|\n",
      "|04e0eff0b4704fc29...|0b1e1539f2cc45b7b...|                  7.0|offer received|     1|              1|              1|             44.77|              5.0|\n",
      "|055640cd12d04eb4b...|2906b810c7d441179...|                  7.0|offer received|     1|              1|              1|26.419999999999998|              5.0|\n",
      "|059de3bbf78b497fa...|5a8bc65990b245e5a...|                  7.0|offer received|     1|              1|              1|             90.01|             10.0|\n",
      "|05beec1cbeb8481d9...|0b1e1539f2cc45b7b...|                  7.0|offer received|     1|              1|              0|             25.62|              2.0|\n",
      "|05c64ce569db467a9...|f19421c1d4aa40978...|                  7.0|offer received|     1|              1|              1|             69.12|              5.0|\n",
      "|061e7367906a4d008...|ae264e3637204a6fb...|                  7.0|offer received|     1|              1|              0|             22.05|              5.0|\n",
      "|0750f076ecc945a99...|3f207df678b143eea...|                  7.0|offer received|     1|              1|              1|25.450000000000003|             10.0|\n",
      "|075d0096867d4a089...|2298d6c36e964ae4a...|                  7.0|offer received|     0|              1|              1| 85.54999999999998|              5.0|\n",
      "|0861b9ca31b741bb8...|f19421c1d4aa40978...|                  7.0|offer received|     1|              1|              1|             15.59|              5.0|\n",
      "|08c7da27291245588...|5a8bc65990b245e5a...|                  7.0|offer received|     1|              1|              1|             18.32|              2.0|\n",
      "|08d06b602c844926a...|fafdcd668e3743c1b...|                  7.0|offer received|     1|              1|              1|              26.0|              5.0|\n",
      "|0a56a31dc8614353a...|2906b810c7d441179...|                  7.0|offer received|     1|              1|              1|22.220000000000002|              2.0|\n",
      "+--------------------+--------------------+---------------------+--------------+------+---------------+---------------+------------------+-----------------+\n",
      "only showing top 20 rows\n",
      "\n"
     ]
    }
   ],
   "source": [
    "df.filter('total_past_reward is not null').show()"
   ]
  },
  {
   "cell_type": "code",
   "execution_count": 77,
   "metadata": {},
   "outputs": [
    {
     "name": "stderr",
     "output_type": "stream",
     "text": [
      "/home/geo/miniconda3/envs/ifood-env/lib/python3.12/site-packages/pyspark/pandas/utils.py:1016: PandasAPIOnSparkAdviceWarning: If `index_col` is not specified for `to_spark`, the existing index is lost when converting to Spark DataFrame.\n",
      "  warnings.warn(message, PandasAPIOnSparkAdviceWarning)\n"
     ]
    }
   ],
   "source": [
    "# cria feature se ja houve conversão na mesma oferta no passado\n",
    "conversoes = df.filter(\"target = 1\").select(\n",
    "    \"account_id\",\n",
    "    \"offer_id\",\n",
    "    \"time_since_test_start\",\n",
    "    F.lit(1).alias(\"past_offer_conversion\"),\n",
    ")\n",
    "\n",
    "dfpd2 = merge_asof(\n",
    "    left=ps(df),\n",
    "    right=ps(conversoes),\n",
    "    on=\"time_since_test_start\",\n",
    "    by=[\"account_id\", \"offer_id\"],\n",
    "    direction=\"backward\",\n",
    "    allow_exact_matches=False,\n",
    ")\n",
    "\n",
    "df = dfpd2.to_spark()"
   ]
  },
  {
   "cell_type": "code",
   "execution_count": 78,
   "metadata": {},
   "outputs": [
    {
     "name": "stderr",
     "output_type": "stream",
     "text": [
      "25/05/16 14:52:36 WARN AttachDistributedSequenceExec: clean up cached RDD(990) in AttachDistributedSequenceExec(28923)\n"
     ]
    },
    {
     "name": "stdout",
     "output_type": "stream",
     "text": [
      "+--------------------+--------------------+---------------------+--------------+------+---------------+---------------+------------------+-----------------+---------------------+\n",
      "|          account_id|            offer_id|time_since_test_start|         event|target|num_past_offers|num_past_viewed| total_past_amount|total_past_reward|past_offer_conversion|\n",
      "+--------------------+--------------------+---------------------+--------------+------+---------------+---------------+------------------+-----------------+---------------------+\n",
      "|016871ea865d43389...|3f207df678b143eea...|                  7.0|offer received|     0|              1|              0|             14.53|              2.0|                 NULL|\n",
      "|01a5e8b57bc04e029...|f19421c1d4aa40978...|                  7.0|offer received|     0|              1|              1|             31.36|              3.0|                 NULL|\n",
      "|029e063479234fb1b...|5a8bc65990b245e5a...|                  7.0|offer received|     1|              1|              0|             49.59|             10.0|                 NULL|\n",
      "|04ca4f4a66934cec9...|5a8bc65990b245e5a...|                  7.0|offer received|     1|              1|              0|28.340000000000003|              5.0|                 NULL|\n",
      "|04e0eff0b4704fc29...|0b1e1539f2cc45b7b...|                  7.0|offer received|     1|              1|              1|             44.77|              5.0|                    1|\n",
      "|05beec1cbeb8481d9...|0b1e1539f2cc45b7b...|                  7.0|offer received|     1|              1|              0|             25.62|              2.0|                 NULL|\n",
      "|05c64ce569db467a9...|f19421c1d4aa40978...|                  7.0|offer received|     1|              1|              1|             69.12|              5.0|                    1|\n",
      "|0750f076ecc945a99...|3f207df678b143eea...|                  7.0|offer received|     1|              1|              1|25.450000000000003|             10.0|                 NULL|\n",
      "|075d0096867d4a089...|2298d6c36e964ae4a...|                  7.0|offer received|     0|              1|              1| 85.54999999999998|              5.0|                 NULL|\n",
      "|08c7da27291245588...|5a8bc65990b245e5a...|                  7.0|offer received|     1|              1|              1|             18.32|              2.0|                 NULL|\n",
      "|08d06b602c844926a...|fafdcd668e3743c1b...|                  7.0|offer received|     1|              1|              1|              26.0|              5.0|                 NULL|\n",
      "|0a56a31dc8614353a...|2906b810c7d441179...|                  7.0|offer received|     1|              1|              1|22.220000000000002|              2.0|                    1|\n",
      "|0a93a485420b42859...|fafdcd668e3743c1b...|                  7.0|offer received|     1|              1|              1|             76.67|             10.0|                 NULL|\n",
      "|0aaeeafa15f44a7fb...|f19421c1d4aa40978...|                  7.0|offer received|     1|              1|              1|             15.05|              2.0|                 NULL|\n",
      "|0b9248aa06a24ff99...|4d5c57ea9a6940dd8...|                  7.0|offer received|     1|              1|              1|              34.0|             10.0|                    1|\n",
      "|0ba8b605e9ab4114b...|3f207df678b143eea...|                  7.0|offer received|     1|              1|              1|             19.57|              5.0|                 NULL|\n",
      "|0c9fe9389f694052a...|0b1e1539f2cc45b7b...|                  7.0|offer received|     1|              1|              1|             36.04|             10.0|                 NULL|\n",
      "|0cbb467090b142ca8...|5a8bc65990b245e5a...|                  7.0|offer received|     1|              1|              1|              9.09|              3.0|                 NULL|\n",
      "|0d430e04265c40498...|ae264e3637204a6fb...|                  7.0|offer received|     1|              1|              1|             51.16|             10.0|                    1|\n",
      "|0e881591e52e48c6b...|ae264e3637204a6fb...|                  7.0|offer received|     1|              1|              1|16.259999999999998|              3.0|                 NULL|\n",
      "+--------------------+--------------------+---------------------+--------------+------+---------------+---------------+------------------+-----------------+---------------------+\n",
      "only showing top 20 rows\n",
      "\n"
     ]
    }
   ],
   "source": [
    "df.filter('total_past_reward is not null').show()"
   ]
  },
  {
   "cell_type": "code",
   "execution_count": 79,
   "metadata": {},
   "outputs": [],
   "source": [
    "# feature que diz quanto tempo passou desde a ultima oferta\n",
    "df = df.withColumn(\n",
    "    \"time_since_last_offer\",\n",
    "    F.col(\"time_since_test_start\") - F.lag(\"time_since_test_start\").over(window)\n",
    ")\n"
   ]
  },
  {
   "cell_type": "code",
   "execution_count": 80,
   "metadata": {},
   "outputs": [
    {
     "name": "stderr",
     "output_type": "stream",
     "text": [
      "25/05/16 14:52:46 WARN AttachDistributedSequenceExec: clean up cached RDD(1159) in AttachDistributedSequenceExec(39393)\n"
     ]
    },
    {
     "name": "stdout",
     "output_type": "stream",
     "text": [
      "+--------------------+--------------------+---------------------+--------------+------+---------------+---------------+-----------------+-----------------+---------------------+---------------------+\n",
      "|          account_id|            offer_id|time_since_test_start|         event|target|num_past_offers|num_past_viewed|total_past_amount|total_past_reward|past_offer_conversion|time_since_last_offer|\n",
      "+--------------------+--------------------+---------------------+--------------+------+---------------+---------------+-----------------+-----------------+---------------------+---------------------+\n",
      "|0020ccbbb6d84e358...|2298d6c36e964ae4a...|                  7.0|offer received|     1|              0|              0|            16.27|             NULL|                 NULL|                 NULL|\n",
      "|0020ccbbb6d84e358...|f19421c1d4aa40978...|                 14.0|offer received|     1|              1|              1|            62.86|              3.0|                 NULL|                  7.0|\n",
      "|0020ccbbb6d84e358...|5a8bc65990b245e5a...|                 17.0|offer received|     1|              2|              2|            77.39|              8.0|                 NULL|                  3.0|\n",
      "|0020ccbbb6d84e358...|9b98b8c7a33c4b65b...|                 21.0|offer received|     1|              3|              3|           136.26|              8.0|                 NULL|                  4.0|\n",
      "|004b041fbfe448599...|3f207df678b143eea...|                  7.0|offer received|     1|              0|              0|            25.62|             NULL|                 NULL|                 NULL|\n",
      "|004b041fbfe448599...|f19421c1d4aa40978...|                 21.0|offer received|     1|              1|              0|            90.51|             NULL|                 NULL|                 14.0|\n",
      "|004b041fbfe448599...|fafdcd668e3743c1b...|                 24.0|offer received|     1|              2|              1|           118.43|              5.0|                 NULL|                  3.0|\n",
      "|004c5799adbf42868...|fafdcd668e3743c1b...|                  7.0|offer received|     1|              0|           NULL|             NULL|             NULL|                 NULL|                 NULL|\n",
      "|004c5799adbf42868...|ae264e3637204a6fb...|                 14.0|offer received|     1|              1|              1|            95.43|              2.0|                 NULL|                  7.0|\n",
      "|004c5799adbf42868...|f19421c1d4aa40978...|                 17.0|offer received|     1|              2|              1|           156.18|             12.0|                 NULL|                  3.0|\n",
      "|004c5799adbf42868...|f19421c1d4aa40978...|                 21.0|offer received|     1|              3|              2|            202.5|             17.0|                    1|                  4.0|\n",
      "|004c5799adbf42868...|fafdcd668e3743c1b...|                 24.0|offer received|     1|              4|              3|            202.5|             17.0|                    1|                  3.0|\n",
      "|005500a7188546ff8...|ae264e3637204a6fb...|                  0.0|offer received|     0|              0|           NULL|             NULL|             NULL|                 NULL|                 NULL|\n",
      "|005500a7188546ff8...|ae264e3637204a6fb...|                  7.0|offer received|     0|              1|              1|             NULL|             NULL|                 NULL|                  7.0|\n",
      "|005500a7188546ff8...|2906b810c7d441179...|                 17.0|offer received|     0|              2|              2|             9.71|             NULL|                 NULL|                 10.0|\n",
      "|005500a7188546ff8...|9b98b8c7a33c4b65b...|                 21.0|offer received|     1|              3|              2|             9.71|             NULL|                 NULL|                  4.0|\n",
      "|005500a7188546ff8...|ae264e3637204a6fb...|                 24.0|offer received|     0|              4|              2|             9.71|             NULL|                 NULL|                  3.0|\n",
      "|0056df74b63b42988...|9b98b8c7a33c4b65b...|                  0.0|offer received|     1|              0|           NULL|             NULL|             NULL|                 NULL|                 NULL|\n",
      "|0056df74b63b42988...|0b1e1539f2cc45b7b...|                 17.0|offer received|     1|              1|              1|            27.86|              5.0|                 NULL|                 17.0|\n",
      "|0056df74b63b42988...|3f207df678b143eea...|                 21.0|offer received|     1|              2|              1|            55.45|             10.0|                 NULL|                  4.0|\n",
      "+--------------------+--------------------+---------------------+--------------+------+---------------+---------------+-----------------+-----------------+---------------------+---------------------+\n",
      "only showing top 20 rows\n",
      "\n"
     ]
    }
   ],
   "source": [
    "df.show()"
   ]
  },
  {
   "cell_type": "markdown",
   "metadata": {},
   "source": [
    "Adicionando agora features das offers e clientes"
   ]
  },
  {
   "cell_type": "code",
   "execution_count": 81,
   "metadata": {},
   "outputs": [],
   "source": [
    "transactions_full_features = transactions_full.select(\n",
    "    \"account_id\", # chaves de cruzamento\n",
    "    \"offer_id\", # chaves de cruzamento\n",
    "    \"event\", # chaves de cruzamento\n",
    "    \"time_since_test_start\",  # chaves de cruzamento\n",
    "    \"age\", # features de clientes\n",
    "    \"credit_card_limit\", # features de clientes\n",
    "    \"gender\", # features de clientes\n",
    "    \"registered_on\",  # features de clientes\n",
    "    \"discount_value\", # features das offers\n",
    "    \"channels\", # features das offers\n",
    "    \"min_value\", # features das offers\n",
    "    \"offer_type\", # features das offers\n",
    "    \"duration\",  # features das offers\n",
    ")"
   ]
  },
  {
   "cell_type": "code",
   "execution_count": 82,
   "metadata": {},
   "outputs": [
    {
     "name": "stderr",
     "output_type": "stream",
     "text": [
      "25/05/16 14:53:04 WARN AttachDistributedSequenceExec: clean up cached RDD(1337) in AttachDistributedSequenceExec(50296)\n",
      "[Stage 868:>                                                      (0 + 11) / 11]\r"
     ]
    },
    {
     "name": "stdout",
     "output_type": "stream",
     "text": [
      "+--------------------+--------------------+--------------+---------------------+------+---------------+---------------+------------------+-----------------+---------------------+---------------------+----+-----------------+------+-------------+--------------+--------------------+---------+-------------+--------+\n",
      "|          account_id|            offer_id|         event|time_since_test_start|target|num_past_offers|num_past_viewed| total_past_amount|total_past_reward|past_offer_conversion|time_since_last_offer| age|credit_card_limit|gender|registered_on|discount_value|            channels|min_value|   offer_type|duration|\n",
      "+--------------------+--------------------+--------------+---------------------+------+---------------+---------------+------------------+-----------------+---------------------+---------------------+----+-----------------+------+-------------+--------------+--------------------+---------+-------------+--------+\n",
      "|00116118485d4dfda...|f19421c1d4aa40978...|offer received|                  7.0|     0|              0|           NULL|              NULL|             NULL|                 NULL|                 NULL|NULL|             NULL|  Nulo|   2018-04-25|             5|[web, email, mobi...|        5|         bogo|     5.0|\n",
      "|0011e0d4e6b944f99...|9b98b8c7a33c4b65b...|offer received|                 21.0|     1|              4|              4|             25.42|              3.0|                 NULL|                  4.0|  40|          57000.0|     O|   2018-01-09|             5|[web, email, mobile]|        5|         bogo|     7.0|\n",
      "|0020c2b971eb4e918...|fafdcd668e3743c1b...|offer received|                  0.0|     1|              0|           NULL|              NULL|             NULL|                 NULL|                 NULL|  59|          90000.0|     F|   2016-03-04|             2|[web, email, mobi...|       10|     discount|    10.0|\n",
      "|00426fe3ffde4c6b9...|0b1e1539f2cc45b7b...|offer received|                 14.0|     0|              2|              2|55.949999999999996|              2.0|                 NULL|                  7.0|  19|          65000.0|     F|   2016-08-09|             5|        [web, email]|       20|     discount|    10.0|\n",
      "|005500a7188546ff8...|2906b810c7d441179...|offer received|                 17.0|     0|              2|              2|              9.71|             NULL|                 NULL|                 10.0|  56|          47000.0|     M|   2017-12-09|             2|[web, email, mobile]|       10|     discount|     7.0|\n",
      "|00857b24b13f4fe0a...|f19421c1d4aa40978...|offer received|                 14.0|     0|              1|              1|1.6099999999999999|             NULL|                 NULL|                 14.0|  71|          41000.0|     M|   2017-10-23|             5|[web, email, mobi...|        5|         bogo|     5.0|\n",
      "|0091d2b6a5ea4defa...|4d5c57ea9a6940dd8...|offer received|                  0.0|     1|              0|           NULL|              NULL|             NULL|                 NULL|                 NULL|  62|          81000.0|     F|   2016-06-17|            10|[web, email, mobi...|       10|         bogo|     5.0|\n",
      "|0091d2b6a5ea4defa...|4d5c57ea9a6940dd8...|offer received|                 24.0|     0|              4|              4|279.15999999999997|             25.0|                    1|                  3.0|  62|          81000.0|     F|   2016-06-17|            10|[web, email, mobi...|       10|         bogo|     5.0|\n",
      "|0099bf30e4cb42658...|fafdcd668e3743c1b...|offer received|                  0.0|     1|              0|           NULL|              NULL|             NULL|                 NULL|                 NULL|  61|          66000.0|     M|   2018-02-14|             2|[web, email, mobi...|       10|     discount|    10.0|\n",
      "|0009655768c64bdeb...|2906b810c7d441179...|offer received|                 24.0|     1|              4|              4|58.400000000000006|              7.0|                 NULL|                  3.0|  33|          72000.0|     M|   2017-04-21|             2|[web, email, mobile]|       10|     discount|     7.0|\n",
      "|0020ccbbb6d84e358...|2298d6c36e964ae4a...|offer received|                  7.0|     1|              0|              0|             16.27|             NULL|                 NULL|                 NULL|  24|          60000.0|     F|   2016-11-11|             3|[web, email, mobi...|        7|     discount|     7.0|\n",
      "|00426fe3ffde4c6b9...|5a8bc65990b245e5a...|offer received|                  0.0|     1|              0|           NULL|              NULL|             NULL|                 NULL|                 NULL|  19|          65000.0|     F|   2016-08-09|             0|[email, mobile, s...|        0|informational|     3.0|\n",
      "|005500a7188546ff8...|ae264e3637204a6fb...|offer received|                  7.0|     0|              1|              1|              NULL|             NULL|                 NULL|                  7.0|  56|          47000.0|     M|   2017-12-09|            10|[email, mobile, s...|       10|         bogo|     7.0|\n",
      "|0063def0f9c14bc48...|5a8bc65990b245e5a...|offer received|                 21.0|     0|              3|              3| 7.210000000000001|             NULL|                 NULL|                  4.0|NULL|             NULL|  Nulo|   2018-06-15|             0|[email, mobile, s...|        0|informational|     3.0|\n",
      "|0069a50874d846438...|3f207df678b143eea...|offer received|                 17.0|     1|              1|              0|              16.2|             NULL|                 NULL|                  3.0|NULL|             NULL|  Nulo|   2016-05-03|             0|[web, email, mobile]|        0|informational|     4.0|\n",
      "|00715b6e55c3431cb...|0b1e1539f2cc45b7b...|offer received|                  7.0|     1|              1|              1|            135.07|             10.0|                 NULL|                  7.0|  58|         119000.0|     F|   2017-12-07|             5|        [web, email]|       20|     discount|    10.0|\n",
      "|0082fd87c18f45f2b...|5a8bc65990b245e5a...|offer received|                  0.0|     1|              0|           NULL|              NULL|             NULL|                 NULL|                 NULL|  28|          68000.0|     F|   2017-09-08|             0|[email, mobile, s...|        0|informational|     3.0|\n",
      "|00857b24b13f4fe0a...|0b1e1539f2cc45b7b...|offer received|                 24.0|     0|              4|              3|1.6099999999999999|             NULL|                 NULL|                  3.0|  71|          41000.0|     M|   2017-10-23|             5|        [web, email]|       20|     discount|    10.0|\n",
      "|00857b24b13f4fe0a...|9b98b8c7a33c4b65b...|offer received|                 17.0|     0|              2|              2|1.6099999999999999|             NULL|                 NULL|                  3.0|  71|          41000.0|     M|   2017-10-23|             5|[web, email, mobile]|        5|         bogo|     7.0|\n",
      "|0009655768c64bdeb...|3f207df678b143eea...|offer received|                 14.0|     0|              1|              1|             22.16|             NULL|                 NULL|                  7.0|  33|          72000.0|     M|   2017-04-21|             0|[web, email, mobile]|        0|informational|     4.0|\n",
      "+--------------------+--------------------+--------------+---------------------+------+---------------+---------------+------------------+-----------------+---------------------+---------------------+----+-----------------+------+-------------+--------------+--------------------+---------+-------------+--------+\n",
      "only showing top 20 rows\n",
      "\n"
     ]
    },
    {
     "name": "stderr",
     "output_type": "stream",
     "text": [
      "                                                                                \r"
     ]
    }
   ],
   "source": [
    "df = df.join(\n",
    "    transactions_full_features,\n",
    "    on=[\"account_id\", \"offer_id\", \"event\", \"time_since_test_start\"],\n",
    "    how=\"left\",\n",
    ")\n",
    "df.show()"
   ]
  },
  {
   "cell_type": "code",
   "execution_count": 83,
   "metadata": {},
   "outputs": [],
   "source": [
    "# Criando features cíclicas do registered_on e outras features de datas\n",
    "df = (\n",
    "    df.withColumn(\n",
    "        \"registered_on_seno\",\n",
    "        F.sin(F.dayofyear(\"registered_on\") * 2 * F.lit(3.14159) / F.lit(365)),\n",
    "    )\n",
    "    .withColumn(\n",
    "        \"registered_on_cos\",\n",
    "        F.cos(F.dayofyear(\"registered_on\") * 2 * F.lit(3.14159) / F.lit(365)),\n",
    "    )\n",
    "    .withColumn(\"year_registered\", F.year(F.col(\"registered_on\")))\n",
    "    .withColumn(\"month_registered\", F.month(F.col(\"registered_on\")))\n",
    ")"
   ]
  },
  {
   "cell_type": "code",
   "execution_count": 84,
   "metadata": {},
   "outputs": [],
   "source": [
    "# criando features de canais\n",
    "\n",
    "df = (\n",
    "    df.withColumn(\"email\", F.array_contains(F.col(\"channels\"), \"email\"))\n",
    "    .withColumn(\"web\", F.array_contains(F.col(\"channels\"), \"web\"))\n",
    "    .withColumn(\"mobile\", F.array_contains(F.col(\"channels\"), \"mobile\"))\n",
    "    .withColumn(\"social\", F.array_contains(F.col(\"channels\"), \"social\"))\n",
    "    .withColumn(\"qtd_canais\", F.array_size(F.col(\"channels\")))\n",
    ")"
   ]
  },
  {
   "cell_type": "code",
   "execution_count": 85,
   "metadata": {},
   "outputs": [
    {
     "name": "stderr",
     "output_type": "stream",
     "text": [
      "25/05/16 14:53:05 WARN SparkStringUtils: Truncated the string representation of a plan since it was too large. This behavior can be adjusted by setting 'spark.sql.debug.maxToStringFields'.\n",
      "25/05/16 14:53:14 WARN AttachDistributedSequenceExec: clean up cached RDD(1522) in AttachDistributedSequenceExec(61226)\n"
     ]
    },
    {
     "name": "stdout",
     "output_type": "stream",
     "text": [
      "+--------------------+--------------------+--------------+---------------------+------+---------------+---------------+------------------+-----------------+---------------------+---------------------+----+-----------------+------+-------------+--------------+--------------------+---------+-------------+--------+--------------------+-------------------+---------------+----------------+-----+-----+------+------+----------+\n",
      "|          account_id|            offer_id|         event|time_since_test_start|target|num_past_offers|num_past_viewed| total_past_amount|total_past_reward|past_offer_conversion|time_since_last_offer| age|credit_card_limit|gender|registered_on|discount_value|            channels|min_value|   offer_type|duration|  registered_on_seno|  registered_on_cos|year_registered|month_registered|email|  web|mobile|social|qtd_canais|\n",
      "+--------------------+--------------------+--------------+---------------------+------+---------------+---------------+------------------+-----------------+---------------------+---------------------+----+-----------------+------+-------------+--------------+--------------------+---------+-------------+--------+--------------------+-------------------+---------------+----------------+-----+-----+------+------+----------+\n",
      "|00116118485d4dfda...|f19421c1d4aa40978...|offer received|                  7.0|     0|              0|           NULL|              NULL|             NULL|                 NULL|                 NULL|NULL|             NULL|  Nulo|   2018-04-25|             5|[web, email, mobi...|        5|         bogo|     5.0|  0.9175842907994192|-0.3975412799674104|           2018|               4| true| true|  true|  true|         4|\n",
      "|0011e0d4e6b944f99...|9b98b8c7a33c4b65b...|offer received|                 21.0|     1|              4|              4|             25.42|              3.0|                 NULL|                  4.0|  40|          57000.0|     O|   2018-01-09|             5|[web, email, mobile]|        5|         bogo|     7.0|  0.1543086913696949| 0.9880226858568442|           2018|               1| true| true|  true| false|         3|\n",
      "|0020c2b971eb4e918...|fafdcd668e3743c1b...|offer received|                  0.0|     1|              0|           NULL|              NULL|             NULL|                 NULL|                 NULL|  59|          90000.0|     F|   2016-03-04|             2|[web, email, mobi...|       10|     discount|    10.0|  0.8919809257725436| 0.4520730339867178|           2016|               3| true| true|  true|  true|         4|\n",
      "|00426fe3ffde4c6b9...|0b1e1539f2cc45b7b...|offer received|                 14.0|     0|              2|              2|55.949999999999996|              2.0|                 NULL|                  7.0|  19|          65000.0|     F|   2016-08-09|             5|        [web, email]|       20|     discount|    10.0| -0.6287603045646394|-0.7775991765709258|           2016|               8| true| true| false| false|         2|\n",
      "|005500a7188546ff8...|2906b810c7d441179...|offer received|                 17.0|     0|              2|              2|              9.71|             NULL|                 NULL|                 10.0|  56|          47000.0|     M|   2017-12-09|             2|[web, email, mobile]|       10|     discount|     7.0|-0.36972917678819495| 0.9291395674663326|           2017|              12| true| true|  true| false|         3|\n",
      "|00857b24b13f4fe0a...|f19421c1d4aa40978...|offer received|                 14.0|     0|              1|              1|1.6099999999999999|             NULL|                 NULL|                 14.0|  71|          41000.0|     M|   2017-10-23|             5|[web, email, mobi...|        5|         bogo|     5.0| -0.9275432920245837|  0.373715722736143|           2017|              10| true| true|  true|  true|         4|\n",
      "|0091d2b6a5ea4defa...|4d5c57ea9a6940dd8...|offer received|                  0.0|     1|              0|           NULL|              NULL|             NULL|                 NULL|                 NULL|  62|          81000.0|     F|   2016-06-17|            10|[web, email, mobi...|       10|         bogo|     5.0|  0.2303080614705412| -0.973117771300926|           2016|               6| true| true|  true|  true|         4|\n",
      "|0091d2b6a5ea4defa...|4d5c57ea9a6940dd8...|offer received|                 24.0|     0|              4|              4|279.15999999999997|             25.0|                    1|                  3.0|  62|          81000.0|     F|   2016-06-17|            10|[web, email, mobi...|       10|         bogo|     5.0|  0.2303080614705412| -0.973117771300926|           2016|               6| true| true|  true|  true|         4|\n",
      "|0099bf30e4cb42658...|fafdcd668e3743c1b...|offer received|                  0.0|     1|              0|           NULL|              NULL|             NULL|                 NULL|                 NULL|  61|          66000.0|     M|   2018-02-14|             2|[web, email, mobi...|       10|     discount|    10.0|  0.6994578594336884| 0.7146738437052546|           2018|               2| true| true|  true|  true|         4|\n",
      "|0009655768c64bdeb...|2906b810c7d441179...|offer received|                 24.0|     1|              4|              4|58.400000000000006|              7.0|                 NULL|                  3.0|  33|          72000.0|     M|   2017-04-21|             2|[web, email, mobile]|       10|     discount|     7.0|  0.9427616815958649|-0.3334672573350149|           2017|               4| true| true|  true| false|         3|\n",
      "|0020ccbbb6d84e358...|2298d6c36e964ae4a...|offer received|                  7.0|     1|              0|              0|             16.27|             NULL|                 NULL|                 NULL|  24|          60000.0|     F|   2016-11-11|             3|[web, email, mobi...|        7|     discount|     7.0| -0.7469751425056861| 0.6648519658379676|           2016|              11| true| true|  true|  true|         4|\n",
      "|00426fe3ffde4c6b9...|5a8bc65990b245e5a...|offer received|                  0.0|     1|              0|           NULL|              NULL|             NULL|                 NULL|                 NULL|  19|          65000.0|     F|   2016-08-09|             0|[email, mobile, s...|        0|informational|     3.0| -0.6287603045646394|-0.7775991765709258|           2016|               8| true|false|  true|  true|         3|\n",
      "|005500a7188546ff8...|ae264e3637204a6fb...|offer received|                  7.0|     0|              1|              1|              NULL|             NULL|                 NULL|                  7.0|  56|          47000.0|     M|   2017-12-09|            10|[email, mobile, s...|       10|         bogo|     7.0|-0.36972917678819495| 0.9291395674663326|           2017|              12| true|false|  true|  true|         3|\n",
      "|0063def0f9c14bc48...|5a8bc65990b245e5a...|offer received|                 21.0|     0|              3|              3| 7.210000000000001|             NULL|                 NULL|                  4.0|NULL|             NULL|  Nulo|   2018-06-15|             0|[email, mobile, s...|        0|informational|     3.0| 0.28023299216508263|-0.9599320132708382|           2018|               6| true|false|  true|  true|         3|\n",
      "|0069a50874d846438...|3f207df678b143eea...|offer received|                 17.0|     1|              1|              0|              16.2|             NULL|                 NULL|                  3.0|NULL|             NULL|  Nulo|   2016-05-03|             0|[web, email, mobile]|        0|informational|     4.0|  0.8452500208184852|-0.5343710343070163|           2016|               5| true| true|  true| false|         3|\n",
      "|00715b6e55c3431cb...|0b1e1539f2cc45b7b...|offer received|                  7.0|     1|              1|              1|            135.07|             10.0|                 NULL|                  7.0|  58|         119000.0|     F|   2017-12-07|             5|        [web, email]|       20|     discount|    10.0|  -0.401492530252498| 0.9158622975925186|           2017|              12| true| true| false| false|         2|\n",
      "|0082fd87c18f45f2b...|5a8bc65990b245e5a...|offer received|                  0.0|     1|              0|           NULL|              NULL|             NULL|                 NULL|                 NULL|  28|          68000.0|     F|   2017-09-08|             0|[email, mobile, s...|        0|informational|     3.0| -0.9242893291759713|-0.3816925935506649|           2017|               9| true|false|  true|  true|         3|\n",
      "|00857b24b13f4fe0a...|0b1e1539f2cc45b7b...|offer received|                 24.0|     0|              4|              3|1.6099999999999999|             NULL|                 NULL|                  3.0|  71|          41000.0|     M|   2017-10-23|             5|        [web, email]|       20|     discount|    10.0| -0.9275432920245837|  0.373715722736143|           2017|              10| true| true| false| false|         2|\n",
      "|00857b24b13f4fe0a...|9b98b8c7a33c4b65b...|offer received|                 17.0|     0|              2|              2|1.6099999999999999|             NULL|                 NULL|                  3.0|  71|          41000.0|     M|   2017-10-23|             5|[web, email, mobile]|        5|         bogo|     7.0| -0.9275432920245837|  0.373715722736143|           2017|              10| true| true|  true| false|         3|\n",
      "|0009655768c64bdeb...|3f207df678b143eea...|offer received|                 14.0|     0|              1|              1|             22.16|             NULL|                 NULL|                  7.0|  33|          72000.0|     M|   2017-04-21|             0|[web, email, mobile]|        0|informational|     4.0|  0.9427616815958649|-0.3334672573350149|           2017|               4| true| true|  true| false|         3|\n",
      "+--------------------+--------------------+--------------+---------------------+------+---------------+---------------+------------------+-----------------+---------------------+---------------------+----+-----------------+------+-------------+--------------+--------------------+---------+-------------+--------+--------------------+-------------------+---------------+----------------+-----+-----+------+------+----------+\n",
      "only showing top 20 rows\n",
      "\n"
     ]
    }
   ],
   "source": [
    "df.show()"
   ]
  },
  {
   "cell_type": "code",
   "execution_count": null,
   "metadata": {},
   "outputs": [],
   "source": []
  },
  {
   "cell_type": "code",
   "execution_count": null,
   "metadata": {},
   "outputs": [],
   "source": []
  }
 ],
 "metadata": {
  "kernelspec": {
   "display_name": "ifood-env",
   "language": "python",
   "name": "python3"
  },
  "language_info": {
   "codemirror_mode": {
    "name": "ipython",
    "version": 3
   },
   "file_extension": ".py",
   "mimetype": "text/x-python",
   "name": "python",
   "nbconvert_exporter": "python",
   "pygments_lexer": "ipython3",
   "version": "3.12.10"
  }
 },
 "nbformat": 4,
 "nbformat_minor": 2
}
