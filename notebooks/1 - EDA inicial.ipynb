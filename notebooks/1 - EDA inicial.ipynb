{
 "cells": [
  {
   "cell_type": "markdown",
   "metadata": {},
   "source": [
    "Este notebook tem o primeiro contatocom os dados, e nele iremos fazer uma EDA e explorar os dados"
   ]
  },
  {
   "cell_type": "markdown",
   "metadata": {},
   "source": [
    "# Setting up"
   ]
  },
  {
   "cell_type": "markdown",
   "metadata": {},
   "source": [
    "## imports"
   ]
  },
  {
   "cell_type": "code",
   "execution_count": 2,
   "metadata": {},
   "outputs": [
    {
     "name": "stderr",
     "output_type": "stream",
     "text": [
      "your 131072x1 screen size is bogus. expect trouble\n",
      "25/05/14 16:02:29 WARN Utils: Your hostname, George-Book3 resolves to a loopback address: 127.0.1.1; using 172.23.250.106 instead (on interface eth0)\n",
      "25/05/14 16:02:29 WARN Utils: Set SPARK_LOCAL_IP if you need to bind to another address\n",
      "Setting default log level to \"WARN\".\n",
      "To adjust logging level use sc.setLogLevel(newLevel). For SparkR, use setLogLevel(newLevel).\n",
      "25/05/14 16:02:31 WARN NativeCodeLoader: Unable to load native-hadoop library for your platform... using builtin-java classes where applicable\n"
     ]
    }
   ],
   "source": [
    "import pandas as pd\n",
    "import numpy as np\n",
    "import matplotlib.pyplot as plt\n",
    "import seaborn as sns\n",
    "from pyspark.sql import SparkSession\n",
    "from pyspark.sql import functions as F\n",
    "from pathlib import Path\n",
    "\n",
    "# current repo path \n",
    "repo_path = Path().resolve().parent\n",
    "\n",
    "spark = SparkSession.builder.appName('Spark Demo').master('local[*]').getOrCreate()\n"
   ]
  },
  {
   "cell_type": "markdown",
   "metadata": {},
   "source": [
    "# Carregando dados e vendo como estão organizados"
   ]
  },
  {
   "cell_type": "code",
   "execution_count": 3,
   "metadata": {},
   "outputs": [
    {
     "name": "stderr",
     "output_type": "stream",
     "text": [
      "                                                                                \r"
     ]
    }
   ],
   "source": [
    "offers = spark.read.json((repo_path / 'data' / 'raw' / 'offers.json').as_posix())\n",
    "transactions = spark.read.json((repo_path / 'data' / 'raw' / 'transactions.json').as_posix())\n",
    "profiles = spark.read.json((repo_path / 'data' / 'raw' / 'profile.json').as_posix())"
   ]
  },
  {
   "cell_type": "markdown",
   "metadata": {},
   "source": [
    "## Offers"
   ]
  },
  {
   "cell_type": "code",
   "execution_count": 4,
   "metadata": {},
   "outputs": [
    {
     "name": "stdout",
     "output_type": "stream",
     "text": [
      "+----------------------------+--------------+--------+--------------------------------+---------+-------------+\n",
      "|channels                    |discount_value|duration|id                              |min_value|offer_type   |\n",
      "+----------------------------+--------------+--------+--------------------------------+---------+-------------+\n",
      "|[email, mobile, social]     |10            |7.0     |ae264e3637204a6fb9bb56bc8210ddfd|10       |bogo         |\n",
      "|[web, email, mobile, social]|10            |5.0     |4d5c57ea9a6940dd891ad53e9dbe8da0|10       |bogo         |\n",
      "|[web, email, mobile]        |0             |4.0     |3f207df678b143eea3cee63160fa8bed|0        |informational|\n",
      "|[web, email, mobile]        |5             |7.0     |9b98b8c7a33c4b65b9aebfe6a799e6d9|5        |bogo         |\n",
      "|[web, email]                |5             |10.0    |0b1e1539f2cc45b7b9fa7c272da2e1d7|20       |discount     |\n",
      "|[web, email, mobile, social]|3             |7.0     |2298d6c36e964ae4a3e7e9706d1fb8c2|7        |discount     |\n",
      "|[web, email, mobile, social]|2             |10.0    |fafdcd668e3743c1bb461111dcafc2a4|10       |discount     |\n",
      "|[email, mobile, social]     |0             |3.0     |5a8bc65990b245e5a138643cd4eb9837|0        |informational|\n",
      "|[web, email, mobile, social]|5             |5.0     |f19421c1d4aa40978ebb69ca19b0e20d|5        |bogo         |\n",
      "|[web, email, mobile]        |2             |7.0     |2906b810c7d4411798c6938adc9daaa5|10       |discount     |\n",
      "+----------------------------+--------------+--------+--------------------------------+---------+-------------+\n",
      "\n",
      "root\n",
      " |-- channels: array (nullable = true)\n",
      " |    |-- element: string (containsNull = true)\n",
      " |-- discount_value: long (nullable = true)\n",
      " |-- duration: double (nullable = true)\n",
      " |-- id: string (nullable = true)\n",
      " |-- min_value: long (nullable = true)\n",
      " |-- offer_type: string (nullable = true)\n",
      "\n"
     ]
    }
   ],
   "source": [
    "offers.show(10,False)\n",
    "offers.printSchema()"
   ]
  },
  {
   "cell_type": "markdown",
   "metadata": {},
   "source": [
    "Offers é uma tabela \"direta\", com ids unicos e caracteristicas das ofertas"
   ]
  },
  {
   "cell_type": "code",
   "execution_count": 60,
   "metadata": {},
   "outputs": [
    {
     "name": "stdout",
     "output_type": "stream",
     "text": [
      "+--------------+-----+\n",
      "|discount_value|count|\n",
      "+--------------+-----+\n",
      "|             0|    2|\n",
      "|             5|    3|\n",
      "|            10|    2|\n",
      "|             3|    1|\n",
      "|             2|    2|\n",
      "+--------------+-----+\n",
      "\n"
     ]
    }
   ],
   "source": [
    "offers.groupBy('discount_value').count().show()"
   ]
  },
  {
   "cell_type": "code",
   "execution_count": 61,
   "metadata": {},
   "outputs": [
    {
     "name": "stdout",
     "output_type": "stream",
     "text": [
      "+---------+-----+\n",
      "|min_value|count|\n",
      "+---------+-----+\n",
      "|        0|    2|\n",
      "|        7|    1|\n",
      "|        5|    2|\n",
      "|       10|    4|\n",
      "|       20|    1|\n",
      "+---------+-----+\n",
      "\n"
     ]
    }
   ],
   "source": [
    "offers.groupBy('min_value').count().show()"
   ]
  },
  {
   "cell_type": "code",
   "execution_count": 62,
   "metadata": {},
   "outputs": [
    {
     "name": "stdout",
     "output_type": "stream",
     "text": [
      "+-------------+-----+\n",
      "|   offer_type|count|\n",
      "+-------------+-----+\n",
      "|     discount|    4|\n",
      "|informational|    2|\n",
      "|         bogo|    4|\n",
      "+-------------+-----+\n",
      "\n"
     ]
    }
   ],
   "source": [
    "offers.groupBy('offer_type').count().show()"
   ]
  },
  {
   "cell_type": "markdown",
   "metadata": {},
   "source": [
    "Não há nada estranho nessa tabela de offers, ela é bem \"direta\" e descritiva"
   ]
  },
  {
   "cell_type": "markdown",
   "metadata": {},
   "source": [
    "## Profiles"
   ]
  },
  {
   "cell_type": "code",
   "execution_count": 5,
   "metadata": {},
   "outputs": [
    {
     "name": "stdout",
     "output_type": "stream",
     "text": [
      "+---+-----------------+------+--------------------------------+-------------+\n",
      "|age|credit_card_limit|gender|id                              |registered_on|\n",
      "+---+-----------------+------+--------------------------------+-------------+\n",
      "|118|NULL             |NULL  |68be06ca386d4c31939f3a4f0e3dd783|20170212     |\n",
      "|55 |112000.0         |F     |0610b486422d4921ae7d2bf64640c50b|20170715     |\n",
      "|118|NULL             |NULL  |38fe809add3b4fcf9315a9694bb96ff5|20180712     |\n",
      "|75 |100000.0         |F     |78afa995795e4d85b5d9ceeca43f5fef|20170509     |\n",
      "|118|NULL             |NULL  |a03223e636434f42ac4c3df47e8bac43|20170804     |\n",
      "|68 |70000.0          |M     |e2127556f4f64592b11af22de27a7932|20180426     |\n",
      "|118|NULL             |NULL  |8ec6ce2a7e7949b1bf142def7d0e0586|20170925     |\n",
      "|118|NULL             |NULL  |68617ca6246f4fbc85e91a2a49552598|20171002     |\n",
      "|65 |53000.0          |M     |389bc3fa690240e798340f5a15918d5c|20180209     |\n",
      "|118|NULL             |NULL  |8974fc5686fe429db53ddde067b88302|20161122     |\n",
      "+---+-----------------+------+--------------------------------+-------------+\n",
      "only showing top 10 rows\n",
      "\n",
      "root\n",
      " |-- age: long (nullable = true)\n",
      " |-- credit_card_limit: double (nullable = true)\n",
      " |-- gender: string (nullable = true)\n",
      " |-- id: string (nullable = true)\n",
      " |-- registered_on: string (nullable = true)\n",
      "\n"
     ]
    }
   ],
   "source": [
    "profiles.show(10,False)\n",
    "profiles.printSchema()"
   ]
  },
  {
   "cell_type": "markdown",
   "metadata": {},
   "source": [
    "Vemos que as datas estão desformatadas, irei transformar a coluna no tipo certo"
   ]
  },
  {
   "cell_type": "code",
   "execution_count": 64,
   "metadata": {},
   "outputs": [
    {
     "name": "stdout",
     "output_type": "stream",
     "text": [
      "+---+-----------------+------+--------------------+-------------+\n",
      "|age|credit_card_limit|gender|                  id|registered_on|\n",
      "+---+-----------------+------+--------------------+-------------+\n",
      "|118|             NULL|  NULL|68be06ca386d4c319...|   2017-02-12|\n",
      "| 55|         112000.0|     F|0610b486422d4921a...|   2017-07-15|\n",
      "|118|             NULL|  NULL|38fe809add3b4fcf9...|   2018-07-12|\n",
      "+---+-----------------+------+--------------------+-------------+\n",
      "only showing top 3 rows\n",
      "\n"
     ]
    }
   ],
   "source": [
    "profiles = profiles.withColumn('registered_on', \n",
    "                               F.to_date(F.col('registered_on').cast('string'),'yyyyMMdd')\n",
    "                               )\n",
    "profiles.show(3)\n"
   ]
  },
  {
   "cell_type": "code",
   "execution_count": 66,
   "metadata": {},
   "outputs": [
    {
     "name": "stdout",
     "output_type": "stream",
     "text": [
      "As campanhas vão de 2013-07-29 a 2018-07-26\n"
     ]
    }
   ],
   "source": [
    "data_min = profiles.select(F.min('registered_on')).collect()[0][0]\n",
    "data_max = profiles.select(F.max('registered_on')).collect()[0][0]\n",
    "print(f\"As campanhas vão de {data_min} a {data_max}\")\n"
   ]
  },
  {
   "cell_type": "markdown",
   "metadata": {},
   "source": [
    "Vendo se há duplicidade de ids:"
   ]
  },
  {
   "cell_type": "code",
   "execution_count": 67,
   "metadata": {},
   "outputs": [
    {
     "name": "stdout",
     "output_type": "stream",
     "text": [
      "+--------------------+-----+\n",
      "|                  id|count|\n",
      "+--------------------+-----+\n",
      "|c05652fa9d2c4fac9...|    1|\n",
      "|6be0513109fe4d738...|    1|\n",
      "|9de54389816342449...|    1|\n",
      "|f5de20984950433d9...|    1|\n",
      "|9da3f2339b244229a...|    1|\n",
      "|fc58860830e648c9b...|    1|\n",
      "|f608dc84f5f744a88...|    1|\n",
      "|7a5f837ad609476cb...|    1|\n",
      "|25540a042d7d4aabb...|    1|\n",
      "|e1e4b47968ef42509...|    1|\n",
      "+--------------------+-----+\n",
      "only showing top 10 rows\n",
      "\n"
     ]
    }
   ],
   "source": [
    "profiles.groupBy('id').count().orderBy('count', ascending=False).show(10)"
   ]
  },
  {
   "cell_type": "markdown",
   "metadata": {},
   "source": [
    "Não há"
   ]
  },
  {
   "cell_type": "markdown",
   "metadata": {},
   "source": [
    "A idade para estranha com vários valores 118, pode ser algum problema na coleta deles?"
   ]
  },
  {
   "cell_type": "code",
   "execution_count": 68,
   "metadata": {},
   "outputs": [
    {
     "data": {
      "text/plain": [
       "<Axes: title={'center': 'Histograma da Idade'}, ylabel='Count'>"
      ]
     },
     "execution_count": 68,
     "metadata": {},
     "output_type": "execute_result"
    },
    {
     "data": {
      "image/png": "[encoded data removed]",
      "text/plain": [
       "<Figure size 640x480 with 1 Axes>"
      ]
     },
     "metadata": {},
     "output_type": "display_data"
    }
   ],
   "source": [
    "idade = profiles.select('age').toPandas()\n",
    "plt.title('Histograma da Idade')\n",
    "sns.histplot(data=idade)\n"
   ]
  },
  {
   "cell_type": "markdown",
   "metadata": {},
   "source": [
    "Claramente é um problema nesses dados. Irei considerar idade 118 como nulas para modelagem"
   ]
  },
  {
   "cell_type": "code",
   "execution_count": 69,
   "metadata": {},
   "outputs": [
    {
     "name": "stdout",
     "output_type": "stream",
     "text": [
      "+------+-----+\n",
      "|gender|count|\n",
      "+------+-----+\n",
      "|     F| 6129|\n",
      "|  NULL| 2175|\n",
      "|     M| 8484|\n",
      "|     O|  212|\n",
      "+------+-----+\n",
      "\n"
     ]
    }
   ],
   "source": [
    "profiles.groupBy('gender').count().show()\n"
   ]
  },
  {
   "cell_type": "markdown",
   "metadata": {},
   "source": [
    "O gênero tem muitos nulos. Isso pode ser tanto um \"não quero responder\" de algum cadastro ou algum erro sistemático. Irei considerar os nulos como uma categoria própria para não inferir nada nesta questão.\n",
    "\n",
    "Sobre \"O\", poderia ser sujeira da base ou significar \"Outros\". Vou entender como \"Outros\"."
   ]
  },
  {
   "cell_type": "code",
   "execution_count": 72,
   "metadata": {},
   "outputs": [
    {
     "data": {
      "text/plain": [
       "<Axes: title={'center': 'Histograma do limite do cartão'}, ylabel='Count'>"
      ]
     },
     "execution_count": 72,
     "metadata": {},
     "output_type": "execute_result"
    },
    {
     "data": {
      "image/png": "[encoded data removed]",
      "text/plain": [
       "<Figure size 640x480 with 1 Axes>"
      ]
     },
     "metadata": {},
     "output_type": "display_data"
    }
   ],
   "source": [
    "credit_card_limit = profiles.select('credit_card_limit').toPandas()\n",
    "plt.title('Histograma do limite do cartão')\n",
    "sns.histplot(data=credit_card_limit)\n"
   ]
  },
  {
   "cell_type": "markdown",
   "metadata": {},
   "source": [
    "Dados parecem ok, exceto pela grandeza do limite do cartão rs. Provavelmente está em centavos (40000 = 400 reais)? De qualquer maneira, isso não influencia na modelagem e provavelmente faremos um rescale dos dados."
   ]
  },
  {
   "cell_type": "markdown",
   "metadata": {},
   "source": [
    "## Transactions"
   ]
  },
  {
   "cell_type": "code",
   "execution_count": 8,
   "metadata": {},
   "outputs": [
    {
     "name": "stdout",
     "output_type": "stream",
     "text": [
      "+--------------------------------+--------------+---------------------+----------------------------------------------------+\n",
      "|account_id                      |event         |time_since_test_start|value                                               |\n",
      "+--------------------------------+--------------+---------------------+----------------------------------------------------+\n",
      "|78afa995795e4d85b5d9ceeca43f5fef|offer received|0.0                  |{NULL, 9b98b8c7a33c4b65b9aebfe6a799e6d9, NULL, NULL}|\n",
      "|a03223e636434f42ac4c3df47e8bac43|offer received|0.0                  |{NULL, 0b1e1539f2cc45b7b9fa7c272da2e1d7, NULL, NULL}|\n",
      "|e2127556f4f64592b11af22de27a7932|offer received|0.0                  |{NULL, 2906b810c7d4411798c6938adc9daaa5, NULL, NULL}|\n",
      "|8ec6ce2a7e7949b1bf142def7d0e0586|offer received|0.0                  |{NULL, fafdcd668e3743c1bb461111dcafc2a4, NULL, NULL}|\n",
      "|68617ca6246f4fbc85e91a2a49552598|offer received|0.0                  |{NULL, 4d5c57ea9a6940dd891ad53e9dbe8da0, NULL, NULL}|\n",
      "|389bc3fa690240e798340f5a15918d5c|offer received|0.0                  |{NULL, f19421c1d4aa40978ebb69ca19b0e20d, NULL, NULL}|\n",
      "|c4863c7985cf408faee930f111475da3|offer received|0.0                  |{NULL, 2298d6c36e964ae4a3e7e9706d1fb8c2, NULL, NULL}|\n",
      "|2eeac8d8feae4a8cad5a6af0499a211d|offer received|0.0                  |{NULL, 3f207df678b143eea3cee63160fa8bed, NULL, NULL}|\n",
      "|aa4862eba776480b8bb9c68455b8c2e1|offer received|0.0                  |{NULL, 0b1e1539f2cc45b7b9fa7c272da2e1d7, NULL, NULL}|\n",
      "|31dda685af34476cad5bc968bdb01c53|offer received|0.0                  |{NULL, 0b1e1539f2cc45b7b9fa7c272da2e1d7, NULL, NULL}|\n",
      "+--------------------------------+--------------+---------------------+----------------------------------------------------+\n",
      "only showing top 10 rows\n",
      "\n",
      "root\n",
      " |-- account_id: string (nullable = true)\n",
      " |-- event: string (nullable = true)\n",
      " |-- time_since_test_start: double (nullable = true)\n",
      " |-- value: struct (nullable = true)\n",
      " |    |-- amount: double (nullable = true)\n",
      " |    |-- offer id: string (nullable = true)\n",
      " |    |-- offer_id: string (nullable = true)\n",
      " |    |-- reward: double (nullable = true)\n",
      "\n"
     ]
    },
    {
     "name": "stderr",
     "output_type": "stream",
     "text": [
      "                                                                                \r"
     ]
    }
   ],
   "source": [
    "transactions.show(10,False)\n",
    "transactions.printSchema()"
   ]
  },
  {
   "cell_type": "code",
   "execution_count": 74,
   "metadata": {},
   "outputs": [
    {
     "name": "stderr",
     "output_type": "stream",
     "text": [
      "[Stage 129:===================================================>   (13 + 1) / 14]\r"
     ]
    },
    {
     "name": "stdout",
     "output_type": "stream",
     "text": [
      "+--------------------------------+---------------+---------------------+----------------------------------------------------+\n",
      "|account_id                      |event          |time_since_test_start|value                                               |\n",
      "+--------------------------------+---------------+---------------------+----------------------------------------------------+\n",
      "|ffff82501cea40309d5fdd7edcca4a07|offer received |0.0                  |{NULL, fafdcd668e3743c1bb461111dcafc2a4, NULL, NULL}|\n",
      "|ffff82501cea40309d5fdd7edcca4a07|offer viewed   |0.25                 |{NULL, fafdcd668e3743c1bb461111dcafc2a4, NULL, NULL}|\n",
      "|ffff82501cea40309d5fdd7edcca4a07|transaction    |2.5                  |{16.06, NULL, NULL, NULL}                           |\n",
      "|ffff82501cea40309d5fdd7edcca4a07|offer completed|2.5                  |{NULL, NULL, fafdcd668e3743c1bb461111dcafc2a4, 2.0} |\n",
      "|ffff82501cea40309d5fdd7edcca4a07|transaction    |3.25                 |{7.18, NULL, NULL, NULL}                            |\n",
      "|ffff82501cea40309d5fdd7edcca4a07|transaction    |5.0                  |{9.12, NULL, NULL, NULL}                            |\n",
      "|ffff82501cea40309d5fdd7edcca4a07|offer received |7.0                  |{NULL, 0b1e1539f2cc45b7b9fa7c272da2e1d7, NULL, NULL}|\n",
      "|ffff82501cea40309d5fdd7edcca4a07|offer viewed   |7.25                 |{NULL, 0b1e1539f2cc45b7b9fa7c272da2e1d7, NULL, NULL}|\n",
      "|ffff82501cea40309d5fdd7edcca4a07|transaction    |8.25                 |{22.88, NULL, NULL, NULL}                           |\n",
      "|ffff82501cea40309d5fdd7edcca4a07|offer completed|8.25                 |{NULL, NULL, 0b1e1539f2cc45b7b9fa7c272da2e1d7, 5.0} |\n",
      "|ffff82501cea40309d5fdd7edcca4a07|transaction    |8.5                  |{15.23, NULL, NULL, NULL}                           |\n",
      "|ffff82501cea40309d5fdd7edcca4a07|transaction    |9.75                 |{18.08, NULL, NULL, NULL}                           |\n",
      "|ffff82501cea40309d5fdd7edcca4a07|transaction    |11.0                 |{23.32, NULL, NULL, NULL}                           |\n",
      "|ffff82501cea40309d5fdd7edcca4a07|transaction    |13.0                 |{16.86, NULL, NULL, NULL}                           |\n",
      "|ffff82501cea40309d5fdd7edcca4a07|offer received |14.0                 |{NULL, 2906b810c7d4411798c6938adc9daaa5, NULL, NULL}|\n",
      "|ffff82501cea40309d5fdd7edcca4a07|offer viewed   |14.75                |{NULL, 2906b810c7d4411798c6938adc9daaa5, NULL, NULL}|\n",
      "|ffff82501cea40309d5fdd7edcca4a07|transaction    |16.0                 |{15.57, NULL, NULL, NULL}                           |\n",
      "|ffff82501cea40309d5fdd7edcca4a07|offer completed|16.0                 |{NULL, NULL, 2906b810c7d4411798c6938adc9daaa5, 2.0} |\n",
      "|ffff82501cea40309d5fdd7edcca4a07|offer received |17.0                 |{NULL, 2906b810c7d4411798c6938adc9daaa5, NULL, NULL}|\n",
      "|ffff82501cea40309d5fdd7edcca4a07|offer viewed   |17.25                |{NULL, 2906b810c7d4411798c6938adc9daaa5, NULL, NULL}|\n",
      "+--------------------------------+---------------+---------------------+----------------------------------------------------+\n",
      "only showing top 20 rows\n",
      "\n"
     ]
    },
    {
     "name": "stderr",
     "output_type": "stream",
     "text": [
      "                                                                                \r"
     ]
    }
   ],
   "source": [
    "transactions.orderBy(['account_id', 'time_since_test_start'],ascending=[False, True]).show(20,False)"
   ]
  },
  {
   "cell_type": "markdown",
   "metadata": {},
   "source": [
    "É possível ver que essa tabela é construída via eventos (ou log). Precisaremos ter bastante atenção ao manipular e extrair informações dela levando isso em conta."
   ]
  },
  {
   "cell_type": "code",
   "execution_count": 76,
   "metadata": {},
   "outputs": [
    {
     "name": "stdout",
     "output_type": "stream",
     "text": [
      "+---------------+------+\n",
      "|event          |count |\n",
      "+---------------+------+\n",
      "|transaction    |138953|\n",
      "|offer received |76277 |\n",
      "|offer viewed   |57725 |\n",
      "|offer completed|33579 |\n",
      "+---------------+------+\n",
      "\n"
     ]
    }
   ],
   "source": [
    "transactions.groupBy('event').count().orderBy('count',ascending=False).show(10,False)"
   ]
  },
  {
   "cell_type": "code",
   "execution_count": 81,
   "metadata": {},
   "outputs": [],
   "source": [
    "transactions = (transactions.withColumn('amount', F.col('value.amount'))\n",
    "                .withColumn('offer_id1', F.col('value.offer id'))\n",
    "                .withColumn('offer_id2', F.col('value.offer_id'))\n",
    "                .withColumn('reward', F.col('value.reward'))\n",
    "                .drop('value')\n",
    ")\n"
   ]
  },
  {
   "cell_type": "code",
   "execution_count": 83,
   "metadata": {},
   "outputs": [
    {
     "name": "stdout",
     "output_type": "stream",
     "text": [
      "+--------------------+--------------+---------------------+------+--------------------+---------+------+\n",
      "|          account_id|         event|time_since_test_start|amount|           offer_id1|offer_id2|reward|\n",
      "+--------------------+--------------+---------------------+------+--------------------+---------+------+\n",
      "|78afa995795e4d85b...|offer received|                  0.0|  NULL|9b98b8c7a33c4b65b...|     NULL|  NULL|\n",
      "|a03223e636434f42a...|offer received|                  0.0|  NULL|0b1e1539f2cc45b7b...|     NULL|  NULL|\n",
      "|e2127556f4f64592b...|offer received|                  0.0|  NULL|2906b810c7d441179...|     NULL|  NULL|\n",
      "|8ec6ce2a7e7949b1b...|offer received|                  0.0|  NULL|fafdcd668e3743c1b...|     NULL|  NULL|\n",
      "|68617ca6246f4fbc8...|offer received|                  0.0|  NULL|4d5c57ea9a6940dd8...|     NULL|  NULL|\n",
      "|389bc3fa690240e79...|offer received|                  0.0|  NULL|f19421c1d4aa40978...|     NULL|  NULL|\n",
      "|c4863c7985cf408fa...|offer received|                  0.0|  NULL|2298d6c36e964ae4a...|     NULL|  NULL|\n",
      "|2eeac8d8feae4a8ca...|offer received|                  0.0|  NULL|3f207df678b143eea...|     NULL|  NULL|\n",
      "|aa4862eba776480b8...|offer received|                  0.0|  NULL|0b1e1539f2cc45b7b...|     NULL|  NULL|\n",
      "|31dda685af34476ca...|offer received|                  0.0|  NULL|0b1e1539f2cc45b7b...|     NULL|  NULL|\n",
      "+--------------------+--------------+---------------------+------+--------------------+---------+------+\n",
      "only showing top 10 rows\n",
      "\n"
     ]
    },
    {
     "name": "stderr",
     "output_type": "stream",
     "text": [
      "                                                                                \r"
     ]
    }
   ],
   "source": [
    "transactions.show(10)"
   ]
  },
  {
   "cell_type": "code",
   "execution_count": 85,
   "metadata": {},
   "outputs": [
    {
     "name": "stderr",
     "output_type": "stream",
     "text": [
      "                                                                                \r"
     ]
    },
    {
     "data": {
      "text/plain": [
       "0"
      ]
     },
     "execution_count": 85,
     "metadata": {},
     "output_type": "execute_result"
    }
   ],
   "source": [
    "transactions.filter('offer_id1 != offer_id2').count()"
   ]
  },
  {
   "cell_type": "markdown",
   "metadata": {},
   "source": [
    "Como não há dados entre offer id e offer_id nulas, podemos criar um coalesce deles."
   ]
  },
  {
   "cell_type": "code",
   "execution_count": 89,
   "metadata": {},
   "outputs": [
    {
     "name": "stderr",
     "output_type": "stream",
     "text": [
      "                                                                                \r"
     ]
    },
    {
     "data": {
      "text/plain": [
       "(-10.0, 150.0)"
      ]
     },
     "execution_count": 89,
     "metadata": {},
     "output_type": "execute_result"
    },
    {
     "data": {
      "image/png": "[encoded data removed]",
      "text/plain": [
       "<Figure size 640x480 with 1 Axes>"
      ]
     },
     "metadata": {},
     "output_type": "display_data"
    }
   ],
   "source": [
    "amount = transactions.select('amount').toPandas()\n",
    "plt.title('Histograma do amount')\n",
    "sns.histplot(data=amount)\n",
    "plt.xlim(-10,150)"
   ]
  },
  {
   "cell_type": "code",
   "execution_count": 91,
   "metadata": {},
   "outputs": [
    {
     "data": {
      "text/html": [
       "<div>\n",
       "<style scoped>\n",
       "    .dataframe tbody tr th:only-of-type {\n",
       "        vertical-align: middle;\n",
       "    }\n",
       "\n",
       "    .dataframe tbody tr th {\n",
       "        vertical-align: top;\n",
       "    }\n",
       "\n",
       "    .dataframe thead th {\n",
       "        text-align: right;\n",
       "    }\n",
       "</style>\n",
       "<table border=\"1\" class=\"dataframe\">\n",
       "  <thead>\n",
       "    <tr style=\"text-align: right;\">\n",
       "      <th></th>\n",
       "      <th>amount</th>\n",
       "    </tr>\n",
       "  </thead>\n",
       "  <tbody>\n",
       "    <tr>\n",
       "      <th>count</th>\n",
       "      <td>138953.000000</td>\n",
       "    </tr>\n",
       "    <tr>\n",
       "      <th>mean</th>\n",
       "      <td>12.777356</td>\n",
       "    </tr>\n",
       "    <tr>\n",
       "      <th>std</th>\n",
       "      <td>30.250529</td>\n",
       "    </tr>\n",
       "    <tr>\n",
       "      <th>min</th>\n",
       "      <td>0.050000</td>\n",
       "    </tr>\n",
       "    <tr>\n",
       "      <th>25%</th>\n",
       "      <td>2.780000</td>\n",
       "    </tr>\n",
       "    <tr>\n",
       "      <th>50%</th>\n",
       "      <td>8.890000</td>\n",
       "    </tr>\n",
       "    <tr>\n",
       "      <th>75%</th>\n",
       "      <td>18.070000</td>\n",
       "    </tr>\n",
       "    <tr>\n",
       "      <th>max</th>\n",
       "      <td>1062.280000</td>\n",
       "    </tr>\n",
       "  </tbody>\n",
       "</table>\n",
       "</div>"
      ],
      "text/plain": [
       "              amount\n",
       "count  138953.000000\n",
       "mean       12.777356\n",
       "std        30.250529\n",
       "min         0.050000\n",
       "25%         2.780000\n",
       "50%         8.890000\n",
       "75%        18.070000\n",
       "max      1062.280000"
      ]
     },
     "execution_count": 91,
     "metadata": {},
     "output_type": "execute_result"
    }
   ],
   "source": [
    "amount.describe()"
   ]
  },
  {
   "cell_type": "code",
   "execution_count": null,
   "metadata": {},
   "outputs": [],
   "source": []
  },
  {
   "cell_type": "code",
   "execution_count": null,
   "metadata": {},
   "outputs": [],
   "source": []
  },
  {
   "cell_type": "code",
   "execution_count": null,
   "metadata": {},
   "outputs": [],
   "source": []
  },
  {
   "cell_type": "code",
   "execution_count": null,
   "metadata": {},
   "outputs": [],
   "source": []
  }
 ],
 "metadata": {
  "kernelspec": {
   "display_name": "ifood-env",
   "language": "python",
   "name": "python3"
  },
  "language_info": {
   "codemirror_mode": {
    "name": "ipython",
    "version": 3
   },
   "file_extension": ".py",
   "mimetype": "text/x-python",
   "name": "python",
   "nbconvert_exporter": "python",
   "pygments_lexer": "ipython3",
   "version": "3.12.10"
  }
 },
 "nbformat": 4,
 "nbformat_minor": 2
}
